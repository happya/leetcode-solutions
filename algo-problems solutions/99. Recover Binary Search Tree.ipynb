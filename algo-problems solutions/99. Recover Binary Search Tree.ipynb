{
 "cells": [
  {
   "cell_type": "markdown",
   "metadata": {},
   "source": [
    "# 99. Recover Binary Search Tree"
   ]
  },
  {
   "cell_type": "markdown",
   "metadata": {},
   "source": [
    "https://leetcode.com/problems/recover-binary-search-tree/description/\n",
    "\n",
    "Two elements of a binary search tree (BST) are swapped by mistake.\n",
    "\n",
    "Recover the tree without changing its structure.\n",
    "\n",
    "Note:\n",
    "A solution using O(n) space is pretty straight forward. Could you devise a constant space solution?"
   ]
  },
  {
   "cell_type": "code",
   "execution_count": null,
   "metadata": {
    "collapsed": true
   },
   "outputs": [],
   "source": [
    "# Definition for a binary tree node.\n",
    "# class TreeNode(object):\n",
    "#     def __init__(self, x):\n",
    "#         self.val = x\n",
    "#         self.left = None\n",
    "#         self.right = None\n",
    "\n",
    "class Solution(object):\n",
    "    prev = None\n",
    "    first = None\n",
    "    second = None\n",
    "    def recoverTree(self, root):\n",
    "        \"\"\"\n",
    "        :type root: TreeNode\n",
    "        :rtype: void Do not return anything, modify root in-place instead.\n",
    "        \"\"\"\n",
    "        \n",
    "        self.morrisTra(root)\n",
    "        self.first.val, self.second.val = self.second.val,self.first.val\n",
    "        return\n",
    "        \n",
    "    def morrisTra(self,root):\n",
    "        cur = root\n",
    "        while cur:\n",
    "            if not cur.left:\n",
    "                self.check(cur)\n",
    "                \n",
    "                cur = cur.right\n",
    "                continue\n",
    "            else:\n",
    "                pre = cur.left\n",
    "                while (pre.right and pre.right!=cur):\n",
    "                    pre = pre.right\n",
    "                if not pre.right:\n",
    "                    pre.right = cur\n",
    "                    cur = cur.left\n",
    "                    \n",
    "                else:\n",
    "                    pre.right = None\n",
    "                    self.check(cur)\n",
    "                    cur = cur.right\n",
    "        \n",
    "    def check(self,cur):\n",
    "        if self.prev and cur.val<self.prev.val:            \n",
    "            if not self.first:\n",
    "                self.first = self.prev\n",
    "            self.second = cur    \n",
    "        self.prev = cur\n",
    "        return"
   ]
  },
  {
   "cell_type": "code",
   "execution_count": 5,
   "metadata": {},
   "outputs": [
    {
     "name": "stdout",
     "output_type": "stream",
     "text": [
      "12#3\n"
     ]
    }
   ],
   "source": [
    "a = ''.join([\"1\",\"2\",\"#\",\"3\"])\n",
    "b = iter(a.split())\n",
    "print(next(b))"
   ]
  },
  {
   "cell_type": "code",
   "execution_count": null,
   "metadata": {
    "collapsed": true
   },
   "outputs": [],
   "source": []
  }
 ],
 "metadata": {
  "kernelspec": {
   "display_name": "Python 3",
   "language": "python",
   "name": "python3"
  },
  "language_info": {
   "codemirror_mode": {
    "name": "ipython",
    "version": 3
   },
   "file_extension": ".py",
   "mimetype": "text/x-python",
   "name": "python",
   "nbconvert_exporter": "python",
   "pygments_lexer": "ipython3",
   "version": "3.5.4"
  }
 },
 "nbformat": 4,
 "nbformat_minor": 2
}
