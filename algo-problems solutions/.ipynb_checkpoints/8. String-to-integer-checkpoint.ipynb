{
 "cells": [
  {
   "cell_type": "markdown",
   "metadata": {},
   "source": [
    "# 8. String to integer\n",
    "---\n",
    "Implement atoi to convert a string to an integer.\n",
    "\n",
    "Hint: Carefully consider all possible input cases. If you want a challenge, please do not see below and ask yourself what are the possible input cases.\n",
    "\n",
    "Notes: It is intended for this problem to be specified vaguely (ie, no given input specs). You are responsible to gather all the input requirements up front."
   ]
  },
  {
   "cell_type": "code",
   "execution_count": 6,
   "metadata": {
    "collapsed": false
   },
   "outputs": [],
   "source": [
    "# 69ms\n",
    "# a very straightforward solution\n",
    "class Solution(object):\n",
    "    def myAtoi(self, str):\n",
    "        \"\"\"\n",
    "        :type str: str\n",
    "        :rtype: int\n",
    "        \"\"\"\n",
    "        if not str: return 0\n",
    "        i = 0\n",
    "        res=0\n",
    "        n = len(str)\n",
    "        while i<n:\n",
    "            if ord(str[i])==45:\n",
    "                if i+1<n and not (47<ord(str[i+1])<59):\n",
    "                    return 0\n",
    "               \n",
    "                \n",
    "                while i+1<n and 47<ord(str[i+1])<59:\n",
    "                    res = res*10 + ord(str[i+1])-48\n",
    "                    i+=1\n",
    "                return min(max(-res, -2147483648), 2147483647)\n",
    "             \n",
    "            if ord(str[i])==43:\n",
    "                if i+1<n and not (47<ord(str[i+1])<59):\n",
    "                    return 0\n",
    "                while i+1<n and 47<ord(str[i+1])<59:\n",
    "                    res = res*10 + ord(str[i+1])-48\n",
    "                    i+=1\n",
    "                return min(max(res, -2147483648), 2147483647)\n",
    "                \n",
    "            if 47<ord(str[i])<59:\n",
    "                res = ord(str[i])-48\n",
    "                while i+1<n and 47<ord(str[i+1])<59:\n",
    "                    res = res*10 + ord(str[i+1])-48\n",
    "                    i+=1\n",
    "                return min(max(res, -2147483648), 2147483647)\n",
    "            if ord(str[i])==32:\n",
    "                i+=1\n",
    "                continue\n",
    "            else:\n",
    "                return 0"
   ]
  },
  {
   "cell_type": "code",
   "execution_count": 7,
   "metadata": {
    "collapsed": true
   },
   "outputs": [],
   "source": [
    "# 正则匹配\n",
    "class Solution(object):\n",
    "    def myAtoi(self, str):\n",
    "        \"\"\"\n",
    "        :type str: str\n",
    "        :rtype: int\n",
    "        \"\"\"\n",
    "        import re \n",
    "        m = re.match(r'(\\s)*(\\+|\\-|)(\\d)*', str)\n",
    "        try:\n",
    "            s = int(m.group(0))\n",
    "            return min(max(s, -2147483648), 2147483647)\n",
    "        except:\n",
    "            return 0"
   ]
  },
  {
   "cell_type": "code",
   "execution_count": null,
   "metadata": {
    "collapsed": true
   },
   "outputs": [],
   "source": []
  }
 ],
 "metadata": {
  "kernelspec": {
   "display_name": "Python 2",
   "language": "python",
   "name": "python2"
  },
  "language_info": {
   "codemirror_mode": {
    "name": "ipython",
    "version": 2
   },
   "file_extension": ".py",
   "mimetype": "text/x-python",
   "name": "python",
   "nbconvert_exporter": "python",
   "pygments_lexer": "ipython2",
   "version": "2.7.12"
  }
 },
 "nbformat": 4,
 "nbformat_minor": 1
}
