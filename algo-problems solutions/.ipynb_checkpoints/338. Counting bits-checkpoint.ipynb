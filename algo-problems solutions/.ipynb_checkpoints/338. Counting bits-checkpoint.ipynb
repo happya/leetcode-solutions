{
 "cells": [
  {
   "cell_type": "markdown",
   "metadata": {},
   "source": [
    "# 338 Counting bits"
   ]
  },
  {
   "cell_type": "markdown",
   "metadata": {},
   "source": [
    "Given a non negative integer number num. For every numbers i in the range 0 ≤ i ≤ num calculate the number of 1's in their binary representation and return them as an array.\n",
    "\n",
    "Example:\n",
    "For `num = 5` you should return `[0,1,1,2,1,2]`.\n",
    "\n",
    "Follow up:\n",
    "\n",
    "It is very easy to come up with a solution with run time O(n*sizeof(integer)). But can you do it in linear time O(n) /possibly in a single pass?\n",
    "Space complexity should be O(n).\n",
    "Can you do it like a boss? Do it without using any builtin function like __builtin_popcount in c++ or in any other language."
   ]
  },
  {
   "cell_type": "markdown",
   "metadata": {},
   "source": [
    "## solution 1:\n",
    "---\n",
    "直观求解，对从0到n的数，计算每一个数的二进制的1的个数。\n",
    "> 计算方法：对每一个 $0\\le i \\le n$，将其与只有一位数是1的数相与，统计其所有1的个数。\n",
    "\n",
    "\n",
    "> run time: $O(n*sizeof(n))$, space: $O(n)$"
   ]
  },
  {
   "cell_type": "code",
   "execution_count": 6,
   "metadata": {
    "collapsed": true
   },
   "outputs": [],
   "source": [
    "def CountNum1(num):\n",
    "    a = [0]\n",
    "    if not num: return a\n",
    "    for i in range(1,num+1):\n",
    "        select_bit= 1\n",
    "        num_of_1=0\n",
    "        while(select_bit<=i):\n",
    "            if(select_bit&i):\n",
    "                num_of_1=num_of_1+1\n",
    "            select_bit=select_bit<<1\n",
    "        a.append(num_of_1)\n",
    "    return a"
   ]
  },
  {
   "cell_type": "code",
   "execution_count": 7,
   "metadata": {},
   "outputs": [
    {
     "name": "stdout",
     "output_type": "stream",
     "text": [
      "[0, 1, 1, 2, 1, 2, 2, 3, 1, 2, 2]\n"
     ]
    }
   ],
   "source": [
    "print(CountNum1(10))"
   ]
  },
  {
   "cell_type": "markdown",
   "metadata": {},
   "source": [
    "## solution 2:\n",
    "----\n",
    "使用trick，对每一个数$i$，其1的个数为：$i\\& (i-1)$中1的个数再加1。为什么这样可以呢？其实还是运用了动态规划的思想，对所有数的二进制的表达，对很多相邻或者相差很少的数而言，有很多连续的位数是相同的，而这些连续且相同的位数中1的个数也是相同的。如果对于每一个数，我们都对每位数进行判断，就造成了计算的冗余。所以solution 2的思路是，对每一个数通过$i\\&(i-1)$求出第一个1（从最后边开始数）前面所以位数组成的数，而这个数肯定比$i$小，且它的二进制表达的1的个数肯定已经计算过，取出它，并加上1（右数第一个1也要算进去），就是$i$中1的个数了。\n",
    "\n",
    "比如，20的二进制表达是10100，减1，则将第一个1变成了0，且这个1前面所有位数都不变（10011），二者相与即取了前面所有相同位数，即得到16（10000），我们取出已经计算好了的10中1的个数，再加上1，即得到20（10100）中1的个数\n",
    "> run time $O(n)$"
   ]
  },
  {
   "cell_type": "code",
   "execution_count": 2,
   "metadata": {
    "collapsed": true
   },
   "outputs": [],
   "source": [
    "def CountNum2(num):\n",
    "    a = [0]\n",
    "    if not num:\n",
    "        return a\n",
    "    for i in range(1,num+1):\n",
    "        a.append(a[i&(i-1)]+1)\n",
    "    return a\n",
    "    "
   ]
  },
  {
   "cell_type": "code",
   "execution_count": 3,
   "metadata": {},
   "outputs": [
    {
     "name": "stdout",
     "output_type": "stream",
     "text": [
      "[0, 1, 1, 2, 1, 2, 2, 3, 1, 2, 2]\n"
     ]
    }
   ],
   "source": [
    "print(CountNum2(10))"
   ]
  },
  {
   "cell_type": "code",
   "execution_count": null,
   "metadata": {
    "collapsed": true
   },
   "outputs": [],
   "source": []
  }
 ],
 "metadata": {
  "kernelspec": {
   "display_name": "Python 3",
   "language": "python",
   "name": "python3"
  },
  "language_info": {
   "codemirror_mode": {
    "name": "ipython",
    "version": 3
   },
   "file_extension": ".py",
   "mimetype": "text/x-python",
   "name": "python",
   "nbconvert_exporter": "python",
   "pygments_lexer": "ipython3",
   "version": "3.6.1"
  }
 },
 "nbformat": 4,
 "nbformat_minor": 2
}
