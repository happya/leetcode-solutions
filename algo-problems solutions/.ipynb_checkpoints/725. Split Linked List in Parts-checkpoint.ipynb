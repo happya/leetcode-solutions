{
 "cells": [
  {
   "cell_type": "markdown",
   "metadata": {},
   "source": [
    "# 725. Split Linked List in Parts\n",
    "---"
   ]
  },
  {
   "cell_type": "markdown",
   "metadata": {},
   "source": [
    "Given a (singly) linked list with head node root, write a function to split the linked list into k consecutive linked list \"parts\".\n",
    "\n",
    "The length of each part should be as equal as possible: no two parts should have a size differing by more than 1. This may lead to some parts being null.\n",
    "\n",
    "The parts should be in order of occurrence in the input list, and parts occurring earlier should always have a size greater than or equal parts occurring later.\n",
    "\n",
    "Return a List of ListNode's representing the linked list parts that are formed.\n",
    "```python\n",
    "Examples 1->2->3->4, k = 5 // 5 equal parts [ [1], [2], [3], [4], null ]\n",
    "Example 1:\n",
    "Input: \n",
    "root = [1, 2, 3], k = 5\n",
    "Output: [[1],[2],[3],[],[]]\n",
    "Explanation:\n",
    "The input and each element of the output are ListNodes, not arrays.\n",
    "For example, the input root has root.val = 1, root.next.val = 2, \\root.next.next.val = 3, and root.next.next.next = null.\n",
    "The first element output[0] has output[0].val = 1, output[0].next = null.\n",
    "The last element output[4] is null, but it's string representation as a ListNode is [].\n",
    "Example 2:\n",
    "Input: \n",
    "root = [1, 2, 3, 4, 5, 6, 7, 8, 9, 10], k = 3\n",
    "Output: [[1, 2, 3, 4], [5, 6, 7], [8, 9, 10]]\n",
    "Explanation:\n",
    "The input has been split into consecutive parts with size difference at most 1, and earlier parts are a larger size than the later parts.\n",
    "Note:\n",
    "\n",
    "The length of root will be in the range [0, 1000].\n",
    "Each value of a node in the input will be an integer in the range [0, 999].\n",
    "k will be an integer in the range [1, 50].\n",
    "```"
   ]
  },
  {
   "cell_type": "code",
   "execution_count": 5,
   "metadata": {},
   "outputs": [],
   "source": [
    "def splitListToParts(self, root, k):\n",
    "    \"\"\"\n",
    "    :type root: ListNode\n",
    "    :type k: int\n",
    "    :rtype: List[ListNode]\n",
    "    \"\"\"\n",
    "    length = 0\n",
    "    cur = root\n",
    "    while cur:\n",
    "        length+=1\n",
    "        cur = cur.next\n",
    "\n",
    "    res = []\n",
    "    if length<=k:\n",
    "        cur = root\n",
    "        for i in range(k):\n",
    "            if cur:\n",
    "                tmp = cur\n",
    "                cur = cur.next\n",
    "                tmp.next = None\n",
    "                res.append(tmp)\n",
    "\n",
    "            else:\n",
    "                res.append(None)\n",
    "\n",
    "    else:\n",
    "        l1 = int(length/k)\n",
    "        mod = length%k\n",
    "        cur = root\n",
    "        if mod:\n",
    "            for i in range(mod):\n",
    "                pre = cur\n",
    "\n",
    "                for j in range(l1):\n",
    "                    cur = cur.next\n",
    "                tmp = cur\n",
    "                cur = cur.next\n",
    "                tmp.next=None\n",
    "                res.append(pre)\n",
    "        for i in range(k-mod):\n",
    "            pre = cur\n",
    "            for j in range(l1-1):\n",
    "                cur = cur.next\n",
    "            tmp = cur\n",
    "            cur = cur.next\n",
    "            tmp.next=None\n",
    "            res.append(pre)        \n",
    "    return res"
   ]
  },
  {
   "cell_type": "code",
   "execution_count": null,
   "metadata": {
    "collapsed": true
   },
   "outputs": [],
   "source": []
  }
 ],
 "metadata": {
  "kernelspec": {
   "display_name": "Python 3",
   "language": "python",
   "name": "python3"
  },
  "language_info": {
   "codemirror_mode": {
    "name": "ipython",
    "version": 3
   },
   "file_extension": ".py",
   "mimetype": "text/x-python",
   "name": "python",
   "nbconvert_exporter": "python",
   "pygments_lexer": "ipython3",
   "version": "3.5.4"
  }
 },
 "nbformat": 4,
 "nbformat_minor": 2
}
