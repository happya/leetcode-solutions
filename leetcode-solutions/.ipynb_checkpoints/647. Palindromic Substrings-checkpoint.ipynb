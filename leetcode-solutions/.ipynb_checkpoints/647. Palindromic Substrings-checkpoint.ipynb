{
 "cells": [
  {
   "cell_type": "markdown",
   "metadata": {},
   "source": [
    "# 647. Palindromic Substrings"
   ]
  },
  {
   "cell_type": "markdown",
   "metadata": {},
   "source": [
    "Given a string, your task is to count how many palindromic substrings in this string.\n",
    "\n",
    "The substrings with different start indexes or end indexes are counted as different substrings even they consist of same characters.\n",
    "\n",
    "Example 1:\n",
    "``` python\n",
    "Input: \"abc\"\n",
    "Output: 3\n",
    "Explanation: Three palindromic strings: \"a\", \"b\", \"c\".\n",
    "```\n",
    "Example 2:\n",
    "```python\n",
    "Input: \"aaa\"\n",
    "Output: 6\n",
    "Explanation: Six palindromic strings: \"a\", \"a\", \"a\", \"aa\", \"aa\", \"aaa\".\n",
    "```\n",
    "Note:\n",
    "The input string length won't exceed 1000."
   ]
  },
  {
   "cell_type": "code",
   "execution_count": 8,
   "metadata": {
    "collapsed": true
   },
   "outputs": [],
   "source": [
    "class Solution(object):\n",
    "    def countSubstrings(self, s):\n",
    "        \"\"\"\n",
    "        :type s: str\n",
    "        :rtype: int\n",
    "        \"\"\"\n",
    "        \n",
    "        def find(s,c1,c2):\n",
    "            while  c1>=0 and c2<len(s) and s[c1] == s[c2]:\n",
    "                c1 -= 1\n",
    "                c2 += 1\n",
    "            return int((c2-c1)/2)\n",
    "        \n",
    "        \n",
    "        if not s:\n",
    "            return 0\n",
    "        res = 0\n",
    "        for i in range(len(s)):\n",
    "            a = find(s,i,i)\n",
    "            b = find(s,i,i+1)\n",
    "            #print(i,a,b)\n",
    "            res = res + find(s,i,i)+find(s,i,i+1)\n",
    "        return res"
   ]
  },
  {
   "cell_type": "code",
   "execution_count": 9,
   "metadata": {
    "collapsed": true
   },
   "outputs": [],
   "source": [
    "class Solution(object):\n",
    "    def countSubstrings(self, s):\n",
    "        \"\"\"\n",
    "        :type s: str\n",
    "        :rtype: int\n",
    "        \"\"\"\n",
    "        if not s:\n",
    "            return 0\n",
    "        if len(s)==1:\n",
    "            return 1\n",
    "        s = '$'+'$'.join(s)+'$'\n",
    "        L = len(s)\n",
    "        maxR, pos = 0, 0\n",
    "        RL = [1]*L\n",
    "        count = 0\n",
    "        for i in range(L):\n",
    "            if i<maxR:\n",
    "                RL[i] = min(RL[2*pos-i],maxR-i)\n",
    "            \n",
    "            while i-RL[i]>=0 and i+RL[i]<L and s[i-RL[i]] == s[i+RL[i]]:\n",
    "                RL[i]+=1\n",
    "                \n",
    "            if i+RL[i]-1>maxR:\n",
    "                maxR = i+RL[i]-1\n",
    "                pos = i\n",
    "        \n",
    "            \n",
    "        #print(RL)\n",
    "        return sum(int(r/2) for r in RL)\n",
    "        "
   ]
  },
  {
   "cell_type": "code",
   "execution_count": null,
   "metadata": {
    "collapsed": true
   },
   "outputs": [],
   "source": []
  }
 ],
 "metadata": {
  "kernelspec": {
   "display_name": "Python 3",
   "language": "python",
   "name": "python3"
  },
  "language_info": {
   "codemirror_mode": {
    "name": "ipython",
    "version": 3
   },
   "file_extension": ".py",
   "mimetype": "text/x-python",
   "name": "python",
   "nbconvert_exporter": "python",
   "pygments_lexer": "ipython3",
   "version": "3.5.4"
  }
 },
 "nbformat": 4,
 "nbformat_minor": 2
}
