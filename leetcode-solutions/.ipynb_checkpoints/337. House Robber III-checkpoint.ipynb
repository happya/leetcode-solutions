{
 "cells": [
  {
   "cell_type": "markdown",
   "metadata": {},
   "source": [
    "# 337. House Robber III"
   ]
  },
  {
   "cell_type": "markdown",
   "metadata": {},
   "source": [
    "The thief has found himself a new place for his thievery again. There is only one entrance to this area, called the \"root.\" Besides the root, each house has one and only one parent house. After a tour, the smart thief realized that \"all houses in this place forms a binary tree\". It will automatically contact the police if two directly-linked houses were broken into on the same night.\n",
    "\n",
    "Determine the maximum amount of money the thief can rob tonight without alerting the police.\n",
    "\n",
    "Example 1:\n",
    "```python\n",
    "     3\n",
    "    / \\\n",
    "   2   3\n",
    "    \\   \\ \n",
    "     3   1\n",
    "Maximum amount of money the thief can rob = 3 + 3 + 1 = 7.\n",
    "Example 2:\n",
    "     3\n",
    "    / \\\n",
    "   4   5\n",
    "  / \\   \\ \n",
    " 1   3   1\n",
    "Maximum amount of money the thief can rob = 4 + 5 = 9.\n",
    "```"
   ]
  },
  {
   "cell_type": "code",
   "execution_count": 1,
   "metadata": {
    "collapsed": true
   },
   "outputs": [],
   "source": [
    "# Definition for a binary tree node.\n",
    "# class TreeNode(object):\n",
    "#     def __init__(self, x):\n",
    "#         self.val = x\n",
    "#         self.left = None\n",
    "#         self.right = None\n",
    "\n",
    "class Solution(object):\n",
    "    def rob(self, root):\n",
    "        \"\"\"\n",
    "        :type root: TreeNode\n",
    "        :rtype: int\n",
    "        \"\"\"\n",
    "        def cal(root):\n",
    "    \n",
    "            if not root:\n",
    "                return 0, 0\n",
    "            if not root.left and not root.right:\n",
    "                return root.val,0\n",
    "            l,lnotin = cal(root.left)\n",
    "            r,rnotin = cal(root.right)\n",
    "            noroot = l+r\n",
    "            inroot = max(root.val+lnotin+rnotin,noroot)\n",
    "            return inroot,noroot\n",
    "        return max(cal(root))"
   ]
  },
  {
   "cell_type": "code",
   "execution_count": null,
   "metadata": {
    "collapsed": true
   },
   "outputs": [],
   "source": []
  }
 ],
 "metadata": {
  "kernelspec": {
   "display_name": "Python 3",
   "language": "python",
   "name": "python3"
  },
  "language_info": {
   "codemirror_mode": {
    "name": "ipython",
    "version": 3
   },
   "file_extension": ".py",
   "mimetype": "text/x-python",
   "name": "python",
   "nbconvert_exporter": "python",
   "pygments_lexer": "ipython3",
   "version": "3.5.4"
  }
 },
 "nbformat": 4,
 "nbformat_minor": 2
}
