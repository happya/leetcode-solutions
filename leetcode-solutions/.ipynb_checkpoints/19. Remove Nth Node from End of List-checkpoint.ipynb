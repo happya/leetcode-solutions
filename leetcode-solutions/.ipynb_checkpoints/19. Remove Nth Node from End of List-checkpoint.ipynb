{
 "cells": [
  {
   "cell_type": "markdown",
   "metadata": {},
   "source": [
    "# 19. Remove Nth Node From End of List\n",
    "---"
   ]
  },
  {
   "cell_type": "markdown",
   "metadata": {},
   "source": [
    "Given a linked list, remove the nth node from the end of list and return its head.\n",
    "\n",
    "For example,\n",
    "```\n",
    "   Given linked list: 1->2->3->4->5, and n = 2.\n",
    "\n",
    "   After removing the second node from the end, the linked list becomes 1->2->3->5.\n",
    "```\n",
    "Note:\n",
    "Given n will always be valid.\n",
    "Try to do this in one pass."
   ]
  },
  {
   "cell_type": "code",
   "execution_count": 70,
   "metadata": {
    "collapsed": true
   },
   "outputs": [],
   "source": [
    "class ListNode(object):\n",
    "    def __init__(self,x):\n",
    "        self.val = x\n",
    "        self.next = None\n",
    "\n",
    "def removeNthFromEnd(head, n):\n",
    "    \"\"\"\n",
    "        :type head: ListNode\n",
    "        :type n: int\n",
    "        :rtype: ListNode\n",
    "        \"\"\"\n",
    "    flag = pivot = head\n",
    "    for _ in range(n):\n",
    "        flag = flag.next\n",
    "    if not flag:\n",
    "        return head.next\n",
    "    while(flag.next):\n",
    "        flag = flag.next\n",
    "        pivot = pivot.next\n",
    "    pivot.next = pivot.next.next\n",
    "    return head"
   ]
  },
  {
   "cell_type": "code",
   "execution_count": 71,
   "metadata": {},
   "outputs": [
    {
     "name": "stdout",
     "output_type": "stream",
     "text": [
      "[1, 2, 3, 4, 5, 6, 7, 8, 9, 10, 11]\n"
     ]
    }
   ],
   "source": [
    "#创建测试序列#\n",
    "a = head = ListNode(1)\n",
    "for i in range(10):\n",
    "    a.next = ListNode(i+2)\n",
    "    a = a.next\n",
    "p = head\n",
    "valList = []\n",
    "while p:\n",
    "    valList.append(p.val)\n",
    "    p = p.next\n",
    "print(valList)"
   ]
  },
  {
   "cell_type": "code",
   "execution_count": 72,
   "metadata": {},
   "outputs": [
    {
     "name": "stdout",
     "output_type": "stream",
     "text": [
      "[1, 2, 3, 4, 5, 6, 7, 8, 10, 11]\n"
     ]
    }
   ],
   "source": [
    "#代码测试#\n",
    "new = removeNthFromEnd(head,3)\n",
    "result = []\n",
    "while new:\n",
    "    result.append(new.val)\n",
    "    new = new.next\n",
    "print(result)"
   ]
  },
  {
   "cell_type": "code",
   "execution_count": null,
   "metadata": {
    "collapsed": true
   },
   "outputs": [],
   "source": []
  }
 ],
 "metadata": {
  "kernelspec": {
   "display_name": "Python 3",
   "language": "python",
   "name": "python3"
  },
  "language_info": {
   "codemirror_mode": {
    "name": "ipython",
    "version": 3
   },
   "file_extension": ".py",
   "mimetype": "text/x-python",
   "name": "python",
   "nbconvert_exporter": "python",
   "pygments_lexer": "ipython3",
   "version": "3.5.4"
  }
 },
 "nbformat": 4,
 "nbformat_minor": 2
}
