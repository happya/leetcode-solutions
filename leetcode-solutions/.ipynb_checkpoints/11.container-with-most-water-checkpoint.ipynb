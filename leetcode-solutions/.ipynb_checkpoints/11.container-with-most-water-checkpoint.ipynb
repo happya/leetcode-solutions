{
 "cells": [
  {
   "cell_type": "markdown",
   "metadata": {},
   "source": [
    "# 11. Container With Most Water\n",
    "---\n",
    "Given n non-negative integers a1, a2, ..., an, where each represents a point at coordinate (i, ai). n vertical lines are drawn such that the two endpoints of line i is at (i, ai) and (i, 0). Find two lines, which together with x-axis forms a container, such that the container contains the most water.\n",
    "\n",
    "Note: You may not slant the container."
   ]
  },
  {
   "cell_type": "code",
   "execution_count": null,
   "metadata": {
    "collapsed": true
   },
   "outputs": [],
   "source": [
    "# 79 ms\n",
    "class Solution(object):\n",
    "    def maxArea(self, height):\n",
    "        \"\"\"\n",
    "        :type height: List[int]\n",
    "        :rtype: int\n",
    "        \"\"\"\n",
    "        n = len(height)\n",
    "        if len(height)<2: return 0\n",
    "        V = 0\n",
    "        start, end = 0, n-1\n",
    "        while start < end:\n",
    "            h = min(height[start], height[end])\n",
    "            V = max(V, h*(end - start))\n",
    "            \n",
    "            while height[start]<=h and start<end:\n",
    "                start += 1\n",
    "            while height[end]<=h and start<end:\n",
    "                end -= 1\n",
    "            \n",
    "        return V"
   ]
  }
 ],
 "metadata": {
  "kernelspec": {
   "display_name": "Python 2",
   "language": "python",
   "name": "python2"
  },
  "language_info": {
   "codemirror_mode": {
    "name": "ipython",
    "version": 2
   },
   "file_extension": ".py",
   "mimetype": "text/x-python",
   "name": "python",
   "nbconvert_exporter": "python",
   "pygments_lexer": "ipython2",
   "version": "2.7.12"
  }
 },
 "nbformat": 4,
 "nbformat_minor": 1
}
