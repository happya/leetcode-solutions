{
 "cells": [
  {
   "cell_type": "markdown",
   "metadata": {},
   "source": [
    "# 760. Find Anagram Mappings\n",
    "---"
   ]
  },
  {
   "cell_type": "markdown",
   "metadata": {},
   "source": [
    "Description:\n",
    "Given two lists Aand B, and B is an anagram of A. B is an anagram of A means B is made by randomizing the order of the elements in A.\n",
    "\n",
    "We want to find an index mapping P, from A to B. A mapping P[i] = j means the ith element in A appears in B at index j.\n",
    "\n",
    "These lists A and B may contain duplicates. If there are multiple answers, output any of them.\n",
    "\n",
    "For example, given\n",
    "\n",
    "```\n",
    "A = [12, 28, 46, 32, 50]\n",
    "B = [50, 12, 32, 46, 28]\n",
    "```\n",
    "\n",
    "We should return\n",
    "\n",
    "```\n",
    "[1, 4, 3, 2, 0]\n",
    "```\n",
    "\n",
    "\n",
    "as P[0] = 1 because the 0th element of A appears at B[1], and P[1] = 4 because the 1st element of A appears at B[4], and so on.\n",
    "Note:\n",
    "\n",
    "A, B have equal lengths in range [1, 100].\n",
    "A[i], B[i] are integers in range [0, 10^5]."
   ]
  },
  {
   "cell_type": "code",
   "execution_count": 5,
   "metadata": {
    "collapsed": true
   },
   "outputs": [],
   "source": [
    "def anagramMappings(A, B):\n",
    "        \"\"\"\n",
    "        :type A: List[int]\n",
    "        :type B: List[int]\n",
    "        :rtype: List[int]\n",
    "        \"\"\"\n",
    "        dic = {}\n",
    "        res = []\n",
    "        for i, b in enumerate(B):\n",
    "            if b not in dic:\n",
    "                dic[b] = []\n",
    "            dic[b].append(i)\n",
    "            \n",
    "        for a in A:\n",
    "            res.append(dic[a].pop())\n",
    "        return res"
   ]
  },
  {
   "cell_type": "code",
   "execution_count": 8,
   "metadata": {},
   "outputs": [
    {
     "name": "stdout",
     "output_type": "stream",
     "text": [
      "[5, 0, 4, 3, 2, 1]\n"
     ]
    }
   ],
   "source": [
    "A = [14, 18, 29,28,7,5]\n",
    "B = [18,5,7,28,29,14]\n",
    "print(anagramMappings(A,B))"
   ]
  },
  {
   "cell_type": "code",
   "execution_count": null,
   "metadata": {
    "collapsed": true
   },
   "outputs": [],
   "source": []
  }
 ],
 "metadata": {
  "kernelspec": {
   "display_name": "Python 3",
   "language": "python",
   "name": "python3"
  },
  "language_info": {
   "codemirror_mode": {
    "name": "ipython",
    "version": 3
   },
   "file_extension": ".py",
   "mimetype": "text/x-python",
   "name": "python",
   "nbconvert_exporter": "python",
   "pygments_lexer": "ipython3",
   "version": "3.5.4"
  }
 },
 "nbformat": 4,
 "nbformat_minor": 2
}
