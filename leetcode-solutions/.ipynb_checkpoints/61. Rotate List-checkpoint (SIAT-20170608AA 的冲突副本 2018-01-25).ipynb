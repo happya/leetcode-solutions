{
 "cells": [
  {
   "cell_type": "markdown",
   "metadata": {},
   "source": [
    "# 61. Rotate List\n",
    "---"
   ]
  },
  {
   "cell_type": "markdown",
   "metadata": {},
   "source": [
    "Given a list, rotate the list to the right by k places, where k is non-negative.\n",
    "\n",
    "\n",
    "Example:\n",
    "\n",
    "```python\n",
    "Given 1->2->3->4->5->NULL and k = 2,\n",
    "\n",
    "return 4->5->1->2->3->NULL.\n",
    "```"
   ]
  },
  {
   "cell_type": "code",
   "execution_count": 1,
   "metadata": {
    "collapsed": true
   },
   "outputs": [],
   "source": [
    "# Definition for singly-linked list.\n",
    "# class ListNode(object):\n",
    "#     def __init__(self, x):\n",
    "#         self.val = x\n",
    "#         self.next = None\n",
    "\n",
    "def rotateRight(self, head, k):\n",
    "    \"\"\"\n",
    "    :type head: ListNode\n",
    "    :type k: int\n",
    "    :rtype: ListNode\n",
    "    \"\"\"\n",
    "    if not head or not head.next or not k:\n",
    "        return head\n",
    "\n",
    "    cur = head\n",
    "    length = 1\n",
    "    while cur.next:\n",
    "        length += 1\n",
    "        cur = cur.next\n",
    "\n",
    "\n",
    "    rotate = k%length\n",
    "\n",
    "    if not rotate:\n",
    "        return head\n",
    "\n",
    "    p1 = head\n",
    "    p2 = head\n",
    "    for i in range(rotate):\n",
    "        p2 = p2.next\n",
    "\n",
    "    while p2.next:\n",
    "        p1 = p1.next\n",
    "        p2 = p2.next\n",
    "\n",
    "\n",
    "    new_head = p1.next\n",
    "    p1.next = None\n",
    "    p2.next = head\n",
    "\n",
    "    return new_head"
   ]
  },
  {
   "cell_type": "code",
   "execution_count": null,
   "metadata": {
    "collapsed": true
   },
   "outputs": [],
   "source": []
  }
 ],
 "metadata": {
  "kernelspec": {
   "display_name": "Python 3",
   "language": "python",
   "name": "python3"
  },
  "language_info": {
   "codemirror_mode": {
    "name": "ipython",
    "version": 3
   },
   "file_extension": ".py",
   "mimetype": "text/x-python",
   "name": "python",
   "nbconvert_exporter": "python",
   "pygments_lexer": "ipython3",
   "version": "3.5.4"
  }
 },
 "nbformat": 4,
 "nbformat_minor": 2
}
