{
 "cells": [
  {
   "cell_type": "markdown",
   "metadata": {},
   "source": [
    "# 17. Letter Combinations of a Phone Number\n",
    "---"
   ]
  },
  {
   "cell_type": "markdown",
   "metadata": {},
   "source": [
    "Description:\n",
    "Given a digit string, return all possible letter combinations that the number could represent.\n",
    "\n",
    "A mapping of digit to letters (just like on the telephone buttons) is given below.\n",
    "\n",
    "<img src=\"http://upload.wikimedia.org/wikipedia/commons/thumb/7/73/Telephone-keypad2.svg/200px-Telephone-keypad2.svg.png\">\n",
    "\n",
    "```\n",
    "Input:Digit string \"23\"\n",
    "Output: [\"ad\", \"ae\", \"af\", \"bd\", \"be\", \"bf\", \"cd\", \"ce\", \"cf\"].\n",
    "```\n",
    "Note:\n",
    "Although the above answer is in lexicographical order, your answer could be in any order you want."
   ]
  },
  {
   "cell_type": "markdown",
   "metadata": {},
   "source": [
    "## solution:\n",
    "---\n",
    "迭代求解，没什么可说的。\n",
    "代码如下："
   ]
  },
  {
   "cell_type": "code",
   "execution_count": 2,
   "metadata": {
    "collapsed": true
   },
   "outputs": [],
   "source": [
    "def letterCombinations(digits):\n",
    "    a = ['','','abc','def','ghi','jkl','mno','pqrs','tuv','wxyz']\n",
    "    result = []\n",
    "    for letter in digits:\n",
    "        num = int(letter) - int('0')\n",
    "        if (num<0 | num >9):break\n",
    "        candidate = a[num]\n",
    "        if candidate=='':continue\n",
    "        if not result:\n",
    "            for i in candidate:\n",
    "                result.append(i)\n",
    "        else:\n",
    "            tmp = []\n",
    "            for i in candidate:\n",
    "                for j in result:\n",
    "                    tmp.append(j+i)\n",
    "            result = tmp\n",
    "    return result\n",
    "            "
   ]
  },
  {
   "cell_type": "markdown",
   "metadata": {},
   "source": [
    "## test: \n",
    "---\n",
    "随便测试一个："
   ]
  },
  {
   "cell_type": "code",
   "execution_count": 5,
   "metadata": {},
   "outputs": [
    {
     "name": "stdout",
     "output_type": "stream",
     "text": [
      "['ajd', 'bjd', 'cjd', 'akd', 'bkd', 'ckd', 'ald', 'bld', 'cld', 'aje', 'bje', 'cje', 'ake', 'bke', 'cke', 'ale', 'ble', 'cle', 'ajf', 'bjf', 'cjf', 'akf', 'bkf', 'ckf', 'alf', 'blf', 'clf']\n"
     ]
    }
   ],
   "source": [
    "print(letterCombinations('2153'))"
   ]
  },
  {
   "cell_type": "code",
   "execution_count": null,
   "metadata": {
    "collapsed": true
   },
   "outputs": [],
   "source": []
  }
 ],
 "metadata": {
  "kernelspec": {
   "display_name": "Python 3",
   "language": "python",
   "name": "python3"
  },
  "language_info": {
   "codemirror_mode": {
    "name": "ipython",
    "version": 3
   },
   "file_extension": ".py",
   "mimetype": "text/x-python",
   "name": "python",
   "nbconvert_exporter": "python",
   "pygments_lexer": "ipython3",
   "version": "3.6.1"
  }
 },
 "nbformat": 4,
 "nbformat_minor": 2
}
