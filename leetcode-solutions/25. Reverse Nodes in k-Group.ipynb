{
 "cells": [
  {
   "cell_type": "markdown",
   "metadata": {},
   "source": [
    "# 25. Reverse Nodes in k-Group\n",
    "---"
   ]
  },
  {
   "cell_type": "markdown",
   "metadata": {},
   "source": [
    "Given a linked list, reverse the nodes of a linked list k at a time and return its modified list.\n",
    "\n",
    "k is a positive integer and is less than or equal to the length of the linked list. If the number of nodes is not a multiple of k then left-out nodes in the end should remain as it is.\n",
    "\n",
    "You may not alter the values in the nodes, only nodes itself may be changed.\n",
    "\n",
    "Only constant memory is allowed.\n",
    "\n",
    "For example,\n",
    "Given this linked list: 1->2->3->4->5\n",
    "\n",
    "For k = 2, you should return: 2->1->4->3->5\n",
    "\n",
    "For k = 3, you should return: 3->2->1->4->5"
   ]
  },
  {
   "cell_type": "code",
   "execution_count": 46,
   "metadata": {
    "collapsed": true
   },
   "outputs": [],
   "source": [
    "# Definition for singly-linked list.\n",
    "class ListNode(object):\n",
    "     def __init__(self, x):\n",
    "            self.val = x\n",
    "            self.next = None"
   ]
  },
  {
   "cell_type": "code",
   "execution_count": 47,
   "metadata": {
    "collapsed": true
   },
   "outputs": [],
   "source": [
    "def formList(nums):\n",
    "    if not nums:\n",
    "        return None\n",
    "    head = ListNode(nums[0])\n",
    "    dummy = head\n",
    "    for num in nums[1:]:\n",
    "        head.next = ListNode(num)\n",
    "        head = head.next\n",
    "    return dummy\n",
    "\n",
    "def showList(head):\n",
    "    res = []\n",
    "    cur = head\n",
    "    while cur:\n",
    "        res.append(cur.val)\n",
    "        cur = cur.next\n",
    "    return res"
   ]
  },
  {
   "cell_type": "code",
   "execution_count": 48,
   "metadata": {
    "collapsed": true
   },
   "outputs": [],
   "source": [
    "def rever(cur_head, pre,k):\n",
    "        new_head = cur_head\n",
    "        for i in range(k-1):\n",
    "            new_head = new_head.next\n",
    "\n",
    "            if not new_head:\n",
    "                return\n",
    "\n",
    "        cur_node = cur_head\n",
    "        for i in range(k):\n",
    "\n",
    "           \n",
    "            _next = cur_node.next\n",
    "\n",
    "            cur_node.next = pre\n",
    "\n",
    "            pre = cur_node\n",
    "\n",
    "            cur_node = _next\n",
    "\n",
    "        cur_tail = cur_head\n",
    "        cur_head = cur_node\n",
    "\n",
    "        cur_tail.next = cur_head\n",
    "\n",
    "\n",
    "        return new_head,cur_head,cur_tail"
   ]
  },
  {
   "cell_type": "code",
   "execution_count": 49,
   "metadata": {
    "collapsed": true
   },
   "outputs": [],
   "source": [
    "def reverseKGroup(head, k):\n",
    "        \"\"\"\n",
    "        :type head: ListNode\n",
    "        :type k: int\n",
    "        :rtype: ListNode\n",
    "        \"\"\"\n",
    "        if not head or k<2:\n",
    "            return head\n",
    "\n",
    "        cur_head = head\n",
    "        first = rever(cur_head,None,k)\n",
    "        if not first:\n",
    "            return head\n",
    "        _head,cur_head,cur_tail = first[0],first[1],first[2]\n",
    "\n",
    "        while(cur_head):\n",
    "            res = rever(cur_head,cur_tail,k)\n",
    "\n",
    "            if res:\n",
    "                cur_tail.next = res[0]\n",
    "                cur_head = res[1]\n",
    "                cur_tail = res[2]\n",
    "            else:\n",
    "                return _head\n",
    "        return _head   "
   ]
  },
  {
   "cell_type": "code",
   "execution_count": 51,
   "metadata": {},
   "outputs": [
    {
     "name": "stdout",
     "output_type": "stream",
     "text": [
      "a = b =  [1, 2, 3, 4, 5, 6, 7, 8, 9]\n",
      "res_a =  [3, 2, 1, 6, 5, 4, 9, 8, 7]\n",
      "res_b =  [4, 3, 2, 1, 8, 7, 6, 5, 9]\n"
     ]
    }
   ],
   "source": [
    "a = formList([1,2,3,4,5,6,7,8,9])\n",
    "b = formList([1,2,3,4,5,6,7,8,9])\n",
    "print('a = b = ', showList(a))\n",
    "res_a = reverseKGroup(a,3)\n",
    "res_b = reverseKGroup(b,4)\n",
    "print('res_a = ',showList(res_a))\n",
    "print('res_b = ',showList(res_b))"
   ]
  },
  {
   "cell_type": "code",
   "execution_count": 2,
   "metadata": {},
   "outputs": [],
   "source": [
    "# Definition for singly-linked list.\n",
    "# class ListNode(object):\n",
    "#     def __init__(self, x):\n",
    "#         self.val = x\n",
    "#         self.next = None\n",
    "\n",
    "      \n",
    "def reverseKGroup(head, k):\n",
    "    \"\"\"\n",
    "    :type head: ListNode\n",
    "    :type k: int\n",
    "    :rtype: ListNode\n",
    "    \"\"\"\n",
    "    if not head or k<2:\n",
    "        return head\n",
    "\n",
    "    cur_head = head\n",
    "    dummy = ListNode(0)\n",
    "    dummy.next=head\n",
    "    pre = dummy\n",
    "    while cur_head: \n",
    "        res=rever(cur_head,pre,k)\n",
    "        if res:\n",
    "            [cur_head,pre]=res\n",
    "        else:\n",
    "            cur_head=None\n",
    "    return dummy.next          \n",
    "            \n",
    "       \n",
    "def rever(cur_head, pre,k):\n",
    "    new_head = cur_head\n",
    "    for i in range(k-1):\n",
    "        new_head = new_head.next\n",
    "        if not new_head:\n",
    "            return\n",
    "\n",
    "    cur_node = cur_head\n",
    "    old_pre = pre\n",
    "    for i in range(k):          \n",
    "        _next = cur_node.next\n",
    "        cur_node.next = pre\n",
    "        pre = cur_node\n",
    "        cur_node = _next\n",
    "\n",
    "    cur_tail = cur_head\n",
    "    cur_tail.next = cur_node\n",
    "    old_pre.next = pre\n",
    "    return cur_node,cur_tail       \n",
    "        \n",
    "            \n",
    "            \n",
    "            "
   ]
  },
  {
   "cell_type": "code",
   "execution_count": null,
   "metadata": {
    "collapsed": true
   },
   "outputs": [],
   "source": []
  }
 ],
 "metadata": {
  "kernelspec": {
   "display_name": "Python 3",
   "language": "python",
   "name": "python3"
  },
  "language_info": {
   "codemirror_mode": {
    "name": "ipython",
    "version": 3
   },
   "file_extension": ".py",
   "mimetype": "text/x-python",
   "name": "python",
   "nbconvert_exporter": "python",
   "pygments_lexer": "ipython3",
   "version": "3.5.4"
  }
 },
 "nbformat": 4,
 "nbformat_minor": 2
}
