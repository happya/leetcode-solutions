{
 "cells": [
  {
   "cell_type": "markdown",
   "metadata": {},
   "source": [
    "# 34. longest valid parentheses\n",
    "---\n",
    "Given a string containing just the characters '(' and ')', find the length of the longest valid (well-formed) parentheses substring.\n",
    "\n",
    "For \"(()\", the longest valid parentheses substring is \"()\", which has length = 2.\n",
    "\n",
    "Another example is \")()())\", where the longest valid parentheses substring is \"()()\", which has length = 4."
   ]
  },
  {
   "cell_type": "code",
   "execution_count": 7,
   "metadata": {
    "collapsed": false
   },
   "outputs": [],
   "source": [
    "# pass 69ms\n",
    "# Hard\n",
    "class Solution(object):\n",
    "    def longestValidParentheses(self, s):\n",
    "        \"\"\"\n",
    "        :type s: str\n",
    "        :rtype: int\n",
    "        \"\"\"\n",
    "        n = len(s)\n",
    "        if n<2: return 0\n",
    "        p = 0\n",
    "        kmax = 0         # 剩下来用来配对的'('数\n",
    "        total = [0]*n    # list用来统计在遇到每一个')'时的当前'()'数目\n",
    "        for i in range(n):\n",
    "            if s[i]=='(':\n",
    "                total[i] = 0\n",
    "                p += 1\n",
    "            elif p<1:\n",
    "                total[i] = 0   # 完全配对后依然遇到')',归零，重新开始计数\n",
    "            else:\n",
    "                p -= 1\n",
    "                # 遇到')'且计数p不为0,当前')'可配对，加2;与前一次统计累加，加total[i-1];\n",
    "                # 向前移动所有当前所有已配对的数目(total[i-1]+2),+2是因为当前的一对括号要算进去\n",
    "                total[i] = 2 + total[i-1] + total[i-2-total[i-1]]  \n",
    "                kmax = total[i] if kmax<total[i] else kmax     #更新最大值记录\n",
    "        \n",
    "        return kmax\n",
    "        "
   ]
  },
  {
   "cell_type": "code",
   "execution_count": null,
   "metadata": {
    "collapsed": true
   },
   "outputs": [],
   "source": []
  }
 ],
 "metadata": {
  "kernelspec": {
   "display_name": "Python 2",
   "language": "python",
   "name": "python2"
  },
  "language_info": {
   "codemirror_mode": {
    "name": "ipython",
    "version": 2
   },
   "file_extension": ".py",
   "mimetype": "text/x-python",
   "name": "python",
   "nbconvert_exporter": "python",
   "pygments_lexer": "ipython2",
   "version": "2.7.12"
  }
 },
 "nbformat": 4,
 "nbformat_minor": 1
}
