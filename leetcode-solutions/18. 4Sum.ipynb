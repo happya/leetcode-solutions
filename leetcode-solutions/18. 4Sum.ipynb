{
 "cells": [
  {
   "cell_type": "markdown",
   "metadata": {},
   "source": [
    "# 18. 4Sum\n",
    "---"
   ]
  },
  {
   "cell_type": "markdown",
   "metadata": {},
   "source": [
    "Given an array S of n integers, are there elements a, b, c, and d in S such that a + b + c + d = target? Find all unique quadruplets in the array which gives the sum of target.\n",
    "\n",
    "Note: The solution set must not contain duplicate quadruplets.\n",
    "```\n",
    "For example, given array S = [1, 0, -1, 0, -2, 2], and target = 0.\n",
    "\n",
    "A solution set is:\n",
    "[\n",
    "  [-1,  0, 0, 1],\n",
    "  [-2, -1, 1, 2],\n",
    "  [-2,  0, 0, 2]\n",
    "]\n",
    "```"
   ]
  },
  {
   "cell_type": "code",
   "execution_count": 14,
   "metadata": {},
   "outputs": [],
   "source": [
    "a = [1,2,0,9,4,7,3]"
   ]
  },
  {
   "cell_type": "code",
   "execution_count": 23,
   "metadata": {},
   "outputs": [],
   "source": [
    "def fourSum(nums,target):\n",
    "    nums.sort()\n",
    "    def twoSum(nums,target,result,results):\n",
    "        if len(nums)<2 or nums[0]*2>target or nums[-1]*2<target:\n",
    "            return\n",
    "        \n",
    "        l,r = 0,len(nums)-1\n",
    "        while l<r:\n",
    "            s = nums[l] + nums[r]\n",
    "            if s==target:\n",
    "                results.append(result+[nums[l],nums[r]])\n",
    "                l = l+1\n",
    "                while l<r and nums[l]==nums[l-1]:\n",
    "                    l = l+1\n",
    "            elif s<target:\n",
    "                l = l+1\n",
    "            else:\n",
    "                r = r-1\n",
    "        return results\n",
    "    \n",
    "    def threeSum(nums,target,result,results):\n",
    "        for i in range(len(nums)-2):\n",
    "            if (not i) or (i>0 and nums[i-1]!=nums[i]):\n",
    "                twoSum(nums[i+1:],target-nums[i],result+[nums[i]],results)\n",
    "    results = []\n",
    "    for i in range(len(nums)-3):\n",
    "        if (not i) or (i>0 and nums[i-1]!=nums[i]):\n",
    "            threeSum(nums[i+1:],target-nums[i],[nums[i]],results)\n",
    "    return results          "
   ]
  },
  {
   "cell_type": "code",
   "execution_count": 24,
   "metadata": {},
   "outputs": [
    {
     "name": "stdout",
     "output_type": "stream",
     "text": [
      "[[0, 1, 2, 7], [1, 2, 3, 4]]\n"
     ]
    }
   ],
   "source": [
    "print(fourSum(a,10))"
   ]
  }
 ],
 "metadata": {
  "kernelspec": {
   "display_name": "Python 3",
   "language": "python",
   "name": "python3"
  },
  "language_info": {
   "codemirror_mode": {
    "name": "ipython",
    "version": 3
   },
   "file_extension": ".py",
   "mimetype": "text/x-python",
   "name": "python",
   "nbconvert_exporter": "python",
   "pygments_lexer": "ipython3",
   "version": "3.5.4"
  }
 },
 "nbformat": 4,
 "nbformat_minor": 2
}
