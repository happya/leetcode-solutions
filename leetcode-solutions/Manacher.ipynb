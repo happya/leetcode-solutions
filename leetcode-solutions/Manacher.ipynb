{
 "cells": [
  {
   "cell_type": "markdown",
   "metadata": {},
   "source": [
    "# Manacher"
   ]
  },
  {
   "cell_type": "code",
   "execution_count": 17,
   "metadata": {
    "collapsed": true
   },
   "outputs": [],
   "source": [
    "def Manacher(s):\n",
    "    s = '#'+'#'.join(s)+'#'\n",
    "    print(s)\n",
    "    L = len(s)\n",
    "    maxR = 0\n",
    "    RL = [1]*L\n",
    "    pos = 0\n",
    "    \n",
    "    for i in range(L):\n",
    "        # 如果位置i被访问过\n",
    "        # 2*pos-i : 以pos为中心，i的对称点\n",
    "        if i<maxR:\n",
    "            RL[i] = min(maxR-i,RL[2*pos-i])\n",
    "        # 尝试扩展\n",
    "        while i-RL[i]>=0 and i+RL[i]<L and s[i-RL[i]] == s[i+RL[i]]:\n",
    "            RL[i]+=1\n",
    "        if i+RL[i]-1>maxR:\n",
    "            maxR = max(i+RL[i]-1,maxR)\n",
    "            pos = i\n",
    "        print('i= ',i,'RL=',RL,'maxR:',maxR)\n",
    "    return sum(int(v/2) for v in RL)"
   ]
  },
  {
   "cell_type": "code",
   "execution_count": 18,
   "metadata": {},
   "outputs": [
    {
     "name": "stdout",
     "output_type": "stream",
     "text": [
      "#a#b#c#b#a#a#b#c#\n",
      "i=  0 RL= [1, 1, 1, 1, 1, 1, 1, 1, 1, 1, 1, 1, 1, 1, 1, 1, 1] maxR: 0\n",
      "i=  1 RL= [1, 2, 1, 1, 1, 1, 1, 1, 1, 1, 1, 1, 1, 1, 1, 1, 1] maxR: 2\n",
      "i=  2 RL= [1, 2, 1, 1, 1, 1, 1, 1, 1, 1, 1, 1, 1, 1, 1, 1, 1] maxR: 2\n",
      "i=  3 RL= [1, 2, 1, 2, 1, 1, 1, 1, 1, 1, 1, 1, 1, 1, 1, 1, 1] maxR: 4\n",
      "i=  4 RL= [1, 2, 1, 2, 1, 1, 1, 1, 1, 1, 1, 1, 1, 1, 1, 1, 1] maxR: 4\n",
      "i=  5 RL= [1, 2, 1, 2, 1, 6, 1, 1, 1, 1, 1, 1, 1, 1, 1, 1, 1] maxR: 10\n",
      "i=  6 RL= [1, 2, 1, 2, 1, 6, 1, 1, 1, 1, 1, 1, 1, 1, 1, 1, 1] maxR: 10\n",
      "i=  7 RL= [1, 2, 1, 2, 1, 6, 1, 2, 1, 1, 1, 1, 1, 1, 1, 1, 1] maxR: 10\n",
      "i=  8 RL= [1, 2, 1, 2, 1, 6, 1, 2, 1, 1, 1, 1, 1, 1, 1, 1, 1] maxR: 10\n",
      "i=  9 RL= [1, 2, 1, 2, 1, 6, 1, 2, 1, 2, 1, 1, 1, 1, 1, 1, 1] maxR: 10\n",
      "i=  10 RL= [1, 2, 1, 2, 1, 6, 1, 2, 1, 2, 7, 1, 1, 1, 1, 1, 1] maxR: 16\n",
      "i=  11 RL= [1, 2, 1, 2, 1, 6, 1, 2, 1, 2, 7, 2, 1, 1, 1, 1, 1] maxR: 16\n",
      "i=  12 RL= [1, 2, 1, 2, 1, 6, 1, 2, 1, 2, 7, 2, 1, 1, 1, 1, 1] maxR: 16\n",
      "i=  13 RL= [1, 2, 1, 2, 1, 6, 1, 2, 1, 2, 7, 2, 1, 2, 1, 1, 1] maxR: 16\n",
      "i=  14 RL= [1, 2, 1, 2, 1, 6, 1, 2, 1, 2, 7, 2, 1, 2, 1, 1, 1] maxR: 16\n",
      "i=  15 RL= [1, 2, 1, 2, 1, 6, 1, 2, 1, 2, 7, 2, 1, 2, 1, 2, 1] maxR: 16\n",
      "i=  16 RL= [1, 2, 1, 2, 1, 6, 1, 2, 1, 2, 7, 2, 1, 2, 1, 2, 1] maxR: 16\n",
      "13\n"
     ]
    }
   ],
   "source": [
    "print(Manacher('abcbaabc'))"
   ]
  },
  {
   "cell_type": "code",
   "execution_count": null,
   "metadata": {
    "collapsed": true
   },
   "outputs": [],
   "source": []
  },
  {
   "cell_type": "code",
   "execution_count": null,
   "metadata": {
    "collapsed": true
   },
   "outputs": [],
   "source": []
  }
 ],
 "metadata": {
  "kernelspec": {
   "display_name": "Python 3",
   "language": "python",
   "name": "python3"
  },
  "language_info": {
   "codemirror_mode": {
    "name": "ipython",
    "version": 3
   },
   "file_extension": ".py",
   "mimetype": "text/x-python",
   "name": "python",
   "nbconvert_exporter": "python",
   "pygments_lexer": "ipython3",
   "version": "3.6.1"
  }
 },
 "nbformat": 4,
 "nbformat_minor": 2
}
