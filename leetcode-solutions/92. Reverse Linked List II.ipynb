{
 "cells": [
  {
   "cell_type": "markdown",
   "metadata": {},
   "source": [
    "# 92. Reverse Linked List II\n",
    "---"
   ]
  },
  {
   "cell_type": "markdown",
   "metadata": {},
   "source": [
    "\n",
    "Reverse a linked list from position m to n. Do it in-place and in one-pass.\n",
    "\n",
    "For example:\n",
    "```python\n",
    "Given 1->2->3->4->5->NULL, m = 2 and n = 4,\n",
    "\n",
    "return 1->4->3->2->5->NULL.\n",
    "```\n",
    "\n",
    "Note:\n",
    "Given m, n satisfy the following condition:\n",
    "1 ≤ m ≤ n ≤ length of list."
   ]
  },
  {
   "cell_type": "code",
   "execution_count": 18,
   "metadata": {
    "collapsed": true
   },
   "outputs": [],
   "source": [
    "# Definition for singly-linked list.\n",
    "class ListNode(object):\n",
    "     def __init__(self, x):\n",
    "            self.val = x\n",
    "            self.next = None"
   ]
  },
  {
   "cell_type": "code",
   "execution_count": 19,
   "metadata": {
    "collapsed": true
   },
   "outputs": [],
   "source": [
    "def formList(nums):\n",
    "    if not nums:\n",
    "        return None\n",
    "    head = ListNode(nums[0])\n",
    "    dummy = head\n",
    "    for num in nums[1:]:\n",
    "        head.next = ListNode(num)\n",
    "        head = head.next\n",
    "    return dummy\n",
    "\n",
    "def showList(head):\n",
    "    res = []\n",
    "    \n",
    "    while head:\n",
    "        res.append(head.val)\n",
    "        head = head.next\n",
    "    return res"
   ]
  },
  {
   "cell_type": "code",
   "execution_count": 43,
   "metadata": {
    "collapsed": true
   },
   "outputs": [],
   "source": [
    "def reverseBetween(head, m, n):\n",
    "        \"\"\"\n",
    "        :type head: ListNode\n",
    "        :type m: int\n",
    "        :type n: int\n",
    "        :rtype: ListNode\n",
    "        \"\"\"\n",
    "        if not head or m==n:\n",
    "            return head\n",
    "        \n",
    "        p1 = head\n",
    "        p2 = head\n",
    "        \n",
    "        if m>1: \n",
    "            for i in range(m-2):\n",
    "                p1 = p1.next\n",
    "            _head = p1\n",
    "            p1 = p1.next\n",
    "            \n",
    "        for j in range(n-1):\n",
    "            p2 = p2.next\n",
    "        \n",
    "        tail = p2.next\n",
    "        \n",
    "        \n",
    "        pre = p1\n",
    "        cur = p1.next\n",
    "        for k in range(n-m):\n",
    "                      \n",
    "            _next = cur.next\n",
    "            cur.next = pre\n",
    "            pre = cur\n",
    "            cur = _next\n",
    "            \n",
    "        \n",
    "        p1.next = tail\n",
    "        \n",
    "        if m>1:\n",
    "            _head.next = p2\n",
    "            return head\n",
    "        else:\n",
    "            \n",
    "            return p2"
   ]
  },
  {
   "cell_type": "code",
   "execution_count": 44,
   "metadata": {},
   "outputs": [
    {
     "name": "stdout",
     "output_type": "stream",
     "text": [
      "[4, 3, 2, 1, 5, 6]\n"
     ]
    }
   ],
   "source": [
    "a = formList([1,2,3,4,5,6])\n",
    "print(showList(reverseBetween(a,1,4)))"
   ]
  },
  {
   "cell_type": "code",
   "execution_count": null,
   "metadata": {
    "collapsed": true
   },
   "outputs": [],
   "source": []
  }
 ],
 "metadata": {
  "kernelspec": {
   "display_name": "Python 3",
   "language": "python",
   "name": "python3"
  },
  "language_info": {
   "codemirror_mode": {
    "name": "ipython",
    "version": 3
   },
   "file_extension": ".py",
   "mimetype": "text/x-python",
   "name": "python",
   "nbconvert_exporter": "python",
   "pygments_lexer": "ipython3",
   "version": "3.5.4"
  }
 },
 "nbformat": 4,
 "nbformat_minor": 2
}
