{
 "cells": [
  {
   "cell_type": "markdown",
   "metadata": {},
   "source": [
    "# 5. Longest Palindromic Substring\n",
    "---\n",
    "from: https://leetcode.com/problems/longest-palindromic-substring/  \n",
    "Given a string s, find the longest palindromic substring in s. You may assume that the maximum length of s is 1000."
   ]
  },
  {
   "cell_type": "code",
   "execution_count": 1,
   "metadata": {
    "collapsed": true
   },
   "outputs": [],
   "source": [
    "# o(n^2)\n",
    "# 1275ms 39%\n",
    "def longestPalindrome(s):\n",
    "    \"\"\"\n",
    "    :type s: str\n",
    "    :rtype: str\n",
    "    \"\"\"\n",
    "    if len(s)<2: return s\n",
    "    result = ''\n",
    "    for i in range(len(s)-1):\n",
    "        tmp = build(s, i,i)\n",
    "        result = tmp if len(tmp)> len(result) else result\n",
    "        tmp = self.build(s,i,i+1)\n",
    "        result = tmp if len(tmp)> len(result) else result\n",
    "    return result   \n",
    "\n",
    "def build(s,l,r): \n",
    "    while l>=0 and r<len(s) and s[l]==s[r]:\n",
    "        l -= 1\n",
    "        r += 1\n",
    "    return s[l+1:r]"
   ]
  },
  {
   "cell_type": "markdown",
   "metadata": {},
   "source": [
    "method 2: Manacher's algorithm  \n",
    "from: https://leetcode.com/articles/longest-palindromic-substring/  \n",
    "https://www.felix021.com/blog/read.php?2040"
   ]
  },
  {
   "cell_type": "code",
   "execution_count": 8,
   "metadata": {
    "collapsed": false
   },
   "outputs": [],
   "source": [
    "# 352ms 76%\n",
    "class Solution(object):\n",
    "    def longestPalindrome(self, s):\n",
    "        \"\"\"\n",
    "        :type s: str\n",
    "        :rtype: str\n",
    "        \"\"\"\n",
    "        s = '#'+'#'.join(s) + '#'\n",
    "        mid = 0\n",
    "        p = [1]*len(s)\n",
    "        for i in range(len(s)):\n",
    "            mx = mid + p[mid]\n",
    "            j = 2*mid - i\n",
    "            if mx > i:\n",
    "                p[i] = min(p[j], mx-i)\n",
    "            while i-p[i]>=0 and i+p[i]<len(s) and s[i-p[i]] == s[i+p[i]]:\n",
    "                p[i] +=1\n",
    "            if p[i]>p[mid]:\n",
    "                mid = i\n",
    "                if mid+p[mid]>=len(s):break\n",
    "                    \n",
    "        return s[mid-p[mid]+2 : mid+p[mid]:2]   \n",
    "        \n",
    "            \n",
    "        "
   ]
  },
  {
   "cell_type": "code",
   "execution_count": null,
   "metadata": {
    "collapsed": true
   },
   "outputs": [],
   "source": []
  }
 ],
 "metadata": {
  "kernelspec": {
   "display_name": "Python 2",
   "language": "python",
   "name": "python2"
  },
  "language_info": {
   "codemirror_mode": {
    "name": "ipython",
    "version": 2
   },
   "file_extension": ".py",
   "mimetype": "text/x-python",
   "name": "python",
   "nbconvert_exporter": "python",
   "pygments_lexer": "ipython2",
   "version": "2.7.12"
  }
 },
 "nbformat": 4,
 "nbformat_minor": 1
}
