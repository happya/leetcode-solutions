{
 "cells": [
  {
   "cell_type": "markdown",
   "metadata": {},
   "source": [
    "# 36. valid sodoku\n",
    "---\n",
    "Determine if a Sudoku is valid, according to: Sudoku Puzzles - The Rules.\n",
    "\n",
    "The Sudoku board could be partially filled, where empty cells are filled with the character '.'.\n",
    "\n",
    "Note:\n",
    "A valid Sudoku board (partially filled) is not necessarily solvable. Only the filled cells need to be validated."
   ]
  },
  {
   "cell_type": "code",
   "execution_count": 1,
   "metadata": {
    "collapsed": true
   },
   "outputs": [],
   "source": [
    "# pass 125 ms, slow(20%)\n",
    "class Solution(object):\n",
    "    def isValidSudoku(self, board):\n",
    "        \"\"\"\n",
    "        :type board: List[List[str]]\n",
    "        :rtype: bool\n",
    "        \"\"\"\n",
    "        a = []\n",
    "        for rowi,row in enumerate(board):\n",
    "            for colj,value in enumerate(row):\n",
    "                if value != '.':\n",
    "                    a += [(rowi,value),(colj+9, value),(rowi/3*3+colj/3+18, value)]\n",
    "        return len(a)==len(set(a))"
   ]
  },
  {
   "cell_type": "markdown",
   "metadata": {},
   "source": [
    "上述方法遍历了（9\\*9）矩阵中的所有数据，但这些其实是没有必要的，因为只要在行、列或者方块中出现一个重复项，就可以直接返回False,而无需遍历所有数据。改进版本如下，速度提升了很多"
   ]
  },
  {
   "cell_type": "code",
   "execution_count": null,
   "metadata": {
    "collapsed": true
   },
   "outputs": [],
   "source": [
    "# method2\n",
    "# pass 72 ms, (89%)\n",
    "class Solution(object):\n",
    "    def isValidSudoku(self, board):\n",
    "        \"\"\"\n",
    "        :type board: List[List[str]]\n",
    "        :rtype: bool\n",
    "        \"\"\"\n",
    "        a = []\n",
    "        for rowi,row in enumerate(board):\n",
    "            for colj,value in enumerate(row):\n",
    "                if value != '.':\n",
    "                    if (rowi,value) in a: return False\n",
    "                    if (colj+9, value) in a: return False\n",
    "                    if (rowi/3*3+colj/3+18,value) in a: return False\n",
    "                    a += [(rowi,value),(colj+9, value),(rowi/3*3+colj/3+18, value)]\n",
    "        return True\n",
    "   "
   ]
  },
  {
   "cell_type": "code",
   "execution_count": 6,
   "metadata": {
    "collapsed": true
   },
   "outputs": [],
   "source": [
    "# 68 ms pass, 94%\n",
    "class Solution(object):\n",
    "    def isValidSudoku(self, board):\n",
    "        \"\"\"\n",
    "        :type board: List[List[str]]\n",
    "        :rtype: bool\n",
    "        \"\"\"\n",
    "        a = []\n",
    "        for rowi,row in enumerate(board):\n",
    "            for colj,value in enumerate(row):\n",
    "                if value != '.':\n",
    "                    if (rowi,value) in a or (colj+9, value) in a or (rowi/3*3+colj/3+18,value) in a: return False\n",
    "                    a += [(rowi,value),(colj+9, value),(rowi/3*3+colj/3+18, value)]\n",
    "        return True"
   ]
  },
  {
   "cell_type": "code",
   "execution_count": null,
   "metadata": {
    "collapsed": true
   },
   "outputs": [],
   "source": []
  }
 ],
 "metadata": {
  "kernelspec": {
   "display_name": "Python 2",
   "language": "python",
   "name": "python2"
  },
  "language_info": {
   "codemirror_mode": {
    "name": "ipython",
    "version": 2
   },
   "file_extension": ".py",
   "mimetype": "text/x-python",
   "name": "python",
   "nbconvert_exporter": "python",
   "pygments_lexer": "ipython2",
   "version": "2.7.12"
  }
 },
 "nbformat": 4,
 "nbformat_minor": 1
}
