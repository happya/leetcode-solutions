{
 "cells": [
  {
   "cell_type": "code",
   "execution_count": 46,
   "metadata": {},
   "outputs": [
    {
     "name": "stdout",
     "output_type": "stream",
     "text": [
      "6\n",
      "-2 11 -4 13 -5 -2\n",
      "20\n"
     ]
    }
   ],
   "source": [
    "def read():\n",
    "    n = int(input())\n",
    "    nums = []\n",
    "    line = input().split(' ')\n",
    "    for i in range(n):\n",
    "        nums.append(int(line[i]))\n",
    "    return nums\n",
    "\n",
    "def MaxAdd(nums):\n",
    "    if not nums:\n",
    "        return 0\n",
    "    n = len(nums)\n",
    "    res = [0]*n\n",
    "    res[0]=nums[0]\n",
    "\n",
    "    flag = True if nums[0]>0 else False\n",
    "    for i in range(1,n):\n",
    "        if nums[i]>0:\n",
    "            flag = True\n",
    "  \n",
    "        if res[i-1]+nums[i]>nums[i]:\n",
    "            res[i]=res[i-1]+nums[i]           \n",
    "        else:\n",
    "            res[i] = nums[i]\n",
    "        \n",
    "        \n",
    "    if flag==False:\n",
    "        return 0\n",
    "    mres = max(res)\n",
    "    return mres\n",
    "\n",
    "nums = read()\n",
    "mres = MaxAdd(nums)\n",
    "print(mres)"
   ]
  },
  {
   "cell_type": "code",
   "execution_count": 34,
   "metadata": {},
   "outputs": [
    {
     "name": "stdout",
     "output_type": "stream",
     "text": [
      "[0, 1]\n",
      "[2]\n"
     ]
    }
   ],
   "source": [
    "a = [0]\n",
    "a.append(1)\n",
    "print(a)\n",
    "a = [2]\n",
    "print(a)"
   ]
  },
  {
   "cell_type": "code",
   "execution_count": 16,
   "metadata": {},
   "outputs": [
    {
     "name": "stdout",
     "output_type": "stream",
     "text": [
      "22\n"
     ]
    }
   ],
   "source": [
    "print(mres)"
   ]
  },
  {
   "cell_type": "code",
   "execution_count": null,
   "metadata": {
    "collapsed": true
   },
   "outputs": [],
   "source": []
  }
 ],
 "metadata": {
  "kernelspec": {
   "display_name": "Python 3",
   "language": "python",
   "name": "python3"
  },
  "language_info": {
   "codemirror_mode": {
    "name": "ipython",
    "version": 3
   },
   "file_extension": ".py",
   "mimetype": "text/x-python",
   "name": "python",
   "nbconvert_exporter": "python",
   "pygments_lexer": "ipython3",
   "version": "3.5.4"
  }
 },
 "nbformat": 4,
 "nbformat_minor": 2
}
