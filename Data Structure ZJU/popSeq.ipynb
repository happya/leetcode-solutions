{
 "cells": [
  {
   "cell_type": "code",
   "execution_count": 2,
   "metadata": {},
   "outputs": [
    {
     "name": "stdout",
     "output_type": "stream",
     "text": [
      "5 7 2\n",
      "1 2 3 4 5 6 7\n",
      "YES\n",
      "3 2 1 7 5 6 4\n",
      "NO\n"
     ]
    }
   ],
   "source": [
    "def read(n):\n",
    "    seq = [0]\n",
    "    line = input().split(' ')\n",
    "    for i in range(n):\n",
    "        seq.append(int(line[i]))\n",
    "    return seq\n",
    "    \n",
    "def isPop(seq,msize,n):\n",
    "    q = []\n",
    "    cur = 1\n",
    "    for i in range(1,n+1):\n",
    "        q.append(i)\n",
    "        if len(q)>msize:\n",
    "            break\n",
    "        while (q and seq[cur]==q[-1]):\n",
    "            q.pop()\n",
    "            cur+=1\n",
    "    if cur>n:\n",
    "        return True\n",
    "    else:\n",
    "        return False\n",
    "    \n",
    "def mainPop():\n",
    "    line = input().split(' ')\n",
    "    msize,n,k=int(line[0]),int(line[1]),int(line[2])\n",
    "    \n",
    "    for i in range(k):\n",
    "        seq = read(n)\n",
    "        isP = isPop(seq,msize,n)\n",
    "        if isP:\n",
    "            print('YES')\n",
    "        else:\n",
    "            print('NO')\n",
    "    \n",
    "mainPop()"
   ]
  },
  {
   "cell_type": "code",
   "execution_count": null,
   "metadata": {
    "collapsed": true
   },
   "outputs": [],
   "source": []
  }
 ],
 "metadata": {
  "kernelspec": {
   "display_name": "Python 3",
   "language": "python",
   "name": "python3"
  },
  "language_info": {
   "codemirror_mode": {
    "name": "ipython",
    "version": 3
   },
   "file_extension": ".py",
   "mimetype": "text/x-python",
   "name": "python",
   "nbconvert_exporter": "python",
   "pygments_lexer": "ipython3",
   "version": "3.5.4"
  }
 },
 "nbformat": 4,
 "nbformat_minor": 2
}
