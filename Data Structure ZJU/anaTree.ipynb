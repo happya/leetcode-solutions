{
 "cells": [
  {
   "cell_type": "code",
   "execution_count": 11,
   "metadata": {},
   "outputs": [
    {
     "name": "stdout",
     "output_type": "stream",
     "text": [
      "3\n",
      "A 1 2\n",
      "B - -\n",
      "C - -\n",
      "3\n",
      "A 2 1\n",
      "B - -\n",
      "C - -\n",
      "Yes"
     ]
    }
   ],
   "source": [
    "class TreeNode():\n",
    "    def __init__(self,x):\n",
    "        self.val = x\n",
    "        self.left =None\n",
    "        self.right = None\n",
    "        \n",
    "def formTree():\n",
    "    num = int(input())\n",
    "    if not num:\n",
    "        return None\n",
    "    isroot = [True]*num\n",
    "    stack = []\n",
    "\n",
    "    for i in range(num):\n",
    "        value, l,r = input().split()\n",
    "        node = TreeNode(value)\n",
    "        stack.append((node,l,r))\n",
    "    for i in range(num):\n",
    "        node,idx_l,idx_r = stack[i]\n",
    "        if idx_l!='-':\n",
    "            idx_l = int(idx_l)\n",
    "            node.left = stack[idx_l][0]\n",
    "            isroot[idx_l]=False\n",
    "        if idx_r!='-':\n",
    "            idx_r = int(idx_r)\n",
    "            node.right = stack[idx_r][0]\n",
    "            isroot[idx_r]=False\n",
    "        \n",
    "    root_idx = isroot.index(True)\n",
    "    root = stack[root_idx][0]\n",
    "    return root\n",
    "\n",
    "def isAnalog(root1,root2):\n",
    "\n",
    "    if not root1 and not root2:\n",
    "        return True\n",
    "    if not root1 or not root2:\n",
    "        return False\n",
    "    if root1 and root2:\n",
    "        \n",
    "        isSwitch = isAnalog(root1.left,root2.left) and isAnalog(root1.right,root2.right)\n",
    "        isSame = isAnalog(root1.left,root2.right) and isAnalog(root1.right,root2.left)\n",
    "        return root1.val==root2.val and (isSwitch or isSame)\n",
    "\n",
    "def main():\n",
    "    tree1 = formTree()\n",
    "    tree2=formTree()\n",
    "    if isAnalog(tree1,tree2):\n",
    "        print('Yes',end='')\n",
    "    else:\n",
    "        print('No',end='')\n",
    "    return\n",
    "\n",
    "main()"
   ]
  },
  {
   "cell_type": "code",
   "execution_count": null,
   "metadata": {
    "collapsed": true
   },
   "outputs": [],
   "source": [
    "8\n",
    "A 1 2\n",
    "B 3 4\n",
    "C 5 -\n",
    "D - -\n",
    "E 6 -\n",
    "G 7 -\n",
    "F - -\n",
    "H - -\n",
    "8\n",
    "G - 4\n",
    "B 7 6\n",
    "F - -\n",
    "A 5 1\n",
    "H - -\n",
    "C 0 -\n",
    "D - -\n",
    "E 2 -"
   ]
  }
 ],
 "metadata": {
  "kernelspec": {
   "display_name": "Python 3",
   "language": "python",
   "name": "python3"
  },
  "language_info": {
   "codemirror_mode": {
    "name": "ipython",
    "version": 3
   },
   "file_extension": ".py",
   "mimetype": "text/x-python",
   "name": "python",
   "nbconvert_exporter": "python",
   "pygments_lexer": "ipython3",
   "version": "3.5.4"
  }
 },
 "nbformat": 4,
 "nbformat_minor": 2
}
