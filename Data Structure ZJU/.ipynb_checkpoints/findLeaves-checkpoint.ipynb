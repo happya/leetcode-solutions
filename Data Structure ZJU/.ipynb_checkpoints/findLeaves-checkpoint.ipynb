{
 "cells": [
  {
   "cell_type": "code",
   "execution_count": 5,
   "metadata": {},
   "outputs": [
    {
     "name": "stdout",
     "output_type": "stream",
     "text": [
      "8\n",
      "1 -\n",
      "- -\n",
      "0 -\n",
      "2 7\n",
      "- - \n",
      "- -\n",
      "5 -\n",
      "4 6\n",
      "4 1 5"
     ]
    }
   ],
   "source": [
    "class TreeNode():\n",
    "    def __init__(self,x):\n",
    "        self.val = x\n",
    "        self.left =None\n",
    "        self.right = None\n",
    "        \n",
    "def formTree():\n",
    "    num = int(input())\n",
    "    isroot = [True]*num\n",
    "    stack = [None]*num\n",
    "    for i in range(num):\n",
    "        if stack[i]:\n",
    "            node = stack[i]\n",
    "        else:\n",
    "            node = TreeNode(i)\n",
    "            stack[i] = node\n",
    "        line = input().split()\n",
    "        if line[0]!='-':\n",
    "            idx_l = int(line[0])\n",
    "            isroot[idx_l]=False\n",
    "            if stack[idx_l]:\n",
    "                node.left = stack[idx_l]\n",
    "            else:\n",
    "                stack[idx_l] = TreeNode(idx_l)\n",
    "                node.left=stack[idx_l]\n",
    "        if line[1]!='-':\n",
    "            idx_r= int(line[1])\n",
    "            isroot[idx_r]=False\n",
    "            if stack[idx_r]:\n",
    "                node.right = stack[idx_r]\n",
    "            else:\n",
    "                stack[idx_r] = TreeNode(idx_r)\n",
    "                node.right=stack[idx_r]\n",
    "    root_idx = isroot.index(True)\n",
    "    root = stack[root_idx]\n",
    "    return root\n",
    "\n",
    "def findLeaves(root):\n",
    "    stack = [root]\n",
    "    res = []\n",
    "    while stack:\n",
    "        q=stack\n",
    "        tmp = []\n",
    "        while q:\n",
    "            cur = q.pop(0)\n",
    "            if cur.left:\n",
    "                tmp.append(cur.left)\n",
    "            if cur.right:\n",
    "                tmp.append(cur.right)\n",
    "            if not cur.left and not cur.right:\n",
    "                res.append(cur.val)\n",
    "        stack = tmp\n",
    "    return res\n",
    "                \n",
    "def main():\n",
    "    root = formTree()\n",
    "    leaves = findLeaves(root)\n",
    "    for leave in leaves[:-1]:\n",
    "        print(leave,end=' ')\n",
    "    print(leaves[-1],end='')\n",
    "    \n",
    "main()"
   ]
  },
  {
   "cell_type": "code",
   "execution_count": 4,
   "metadata": {},
   "outputs": [
    {
     "name": "stdout",
     "output_type": "stream",
     "text": [
      "[1, 2]\n"
     ]
    }
   ],
   "source": [
    "1 -\n",
    "- -\n",
    "0 -\n",
    "2 7\n",
    "- -\n",
    "- -\n",
    "5 -\n",
    "4 6"
   ]
  },
  {
   "cell_type": "code",
   "execution_count": null,
   "metadata": {
    "collapsed": true
   },
   "outputs": [],
   "source": []
  }
 ],
 "metadata": {
  "kernelspec": {
   "display_name": "Python 3",
   "language": "python",
   "name": "python3"
  },
  "language_info": {
   "codemirror_mode": {
    "name": "ipython",
    "version": 3
   },
   "file_extension": ".py",
   "mimetype": "text/x-python",
   "name": "python",
   "nbconvert_exporter": "python",
   "pygments_lexer": "ipython3",
   "version": "3.5.4"
  }
 },
 "nbformat": 4,
 "nbformat_minor": 2
}
