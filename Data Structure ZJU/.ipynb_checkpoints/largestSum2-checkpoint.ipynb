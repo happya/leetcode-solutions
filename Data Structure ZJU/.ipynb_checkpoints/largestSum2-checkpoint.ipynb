{
 "cells": [
  {
   "cell_type": "code",
   "execution_count": 16,
   "metadata": {},
   "outputs": [
    {
     "name": "stdout",
     "output_type": "stream",
     "text": [
      "10\n",
      "0 0 0 0 0 5 -1 -1 -1 -1\n",
      "5 0 5"
     ]
    }
   ],
   "source": [
    "def read():\n",
    "    n = int(input())\n",
    "    nums = []\n",
    "    line = input().split(' ')\n",
    "    for i in range(n):\n",
    "        nums.append(int(line[i]))\n",
    "    return nums\n",
    "\n",
    "def MaxAdd(nums):\n",
    "    if not nums:\n",
    "        return 0\n",
    "    n = len(nums)\n",
    "    res = [0]*n\n",
    "    head = [0]*n\n",
    "    res[0]=nums[0]\n",
    "    head[0] = 0\n",
    "    flag = True if nums[0]>0 else False\n",
    "    for i in range(1,n):\n",
    "        if nums[i]>=0:\n",
    "            flag = True\n",
    "  \n",
    "        if res[i-1]+nums[i]>=nums[i]:\n",
    "            res[i]=res[i-1]+nums[i] \n",
    "            head[i] = head[i-1]\n",
    "        else:\n",
    "            res[i] = nums[i]\n",
    "            head[i]=i\n",
    "                \n",
    "\n",
    "    mres = max(res)\n",
    "    idx = res.index(mres)\n",
    "    id1,id2 = head[idx],idx\n",
    "    if flag==False:\n",
    "        mres,id1,id2 = 0, 0, -1\n",
    "\n",
    "    print(mres,nums[id1],nums[id2],end='')\n",
    "\n",
    "nums = read()\n",
    "mres = MaxAdd(nums)"
   ]
  },
  {
   "cell_type": "code",
   "execution_count": 6,
   "metadata": {},
   "outputs": [
    {
     "name": "stdout",
     "output_type": "stream",
     "text": [
      "[4]\n"
     ]
    }
   ],
   "source": [
    "a = [1,2,3,4,5,5,3]\n",
    "b = [a.index(5)]\n",
    "print(b)"
   ]
  },
  {
   "cell_type": "code",
   "execution_count": null,
   "metadata": {
    "collapsed": true
   },
   "outputs": [],
   "source": []
  }
 ],
 "metadata": {
  "kernelspec": {
   "display_name": "Python 3",
   "language": "python",
   "name": "python3"
  },
  "language_info": {
   "codemirror_mode": {
    "name": "ipython",
    "version": 3
   },
   "file_extension": ".py",
   "mimetype": "text/x-python",
   "name": "python",
   "nbconvert_exporter": "python",
   "pygments_lexer": "ipython3",
   "version": "3.5.4"
  }
 },
 "nbformat": 4,
 "nbformat_minor": 2
}
