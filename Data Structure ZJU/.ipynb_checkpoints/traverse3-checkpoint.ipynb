{
 "cells": [
  {
   "cell_type": "code",
   "execution_count": 36,
   "metadata": {},
   "outputs": [],
   "source": [
    "class TreeNode:\n",
    "    def __init__(self, x):\n",
    "        self.val = x\n",
    "        self.left = None\n",
    "        self.right=None\n",
    "        \n",
    "def read():\n",
    "    num = int(input())\n",
    "    inlist = []\n",
    "    for i in range(num*2):\n",
    "        line = input().split()\n",
    "        if line[0]=='Pop':\n",
    "            inlist.append(-1)\n",
    "        else:\n",
    "            inlist.append((line[0],int(line[1])))\n",
    "    return inlist\n",
    "\n",
    "def formTree(inlist):\n",
    "    length = len(inlist)\n",
    "    root,parent= None,None\n",
    "    stack = []\n",
    "    flag = False\n",
    "    for i in range(length):\n",
    "        cur = inlist[i]\n",
    "        if cur != -1:\n",
    "            node = TreeNode(cur[1])\n",
    "            if not root:\n",
    "                root = node\n",
    "                stack.append(root)\n",
    "                continue\n",
    "            elif not flag:\n",
    "                parent = stack[-1]\n",
    "                \n",
    "                if not parent.left:\n",
    "                    parent.left = node\n",
    "                else:\n",
    "                    parent.right = node\n",
    "            else:\n",
    "                parent.right = node\n",
    "            flag = False\n",
    "            stack.append(node)\n",
    "        else:\n",
    "            flag = True\n",
    "            parent = stack.pop()\n",
    "\n",
    "    return root\n",
    "\n",
    "def main():\n",
    "    root = formTree(read())\n",
    "    stack = []\n",
    "    def postTra(root):\n",
    "        if not root:\n",
    "            return\n",
    "        cur = root\n",
    "        while cur:\n",
    "            postTra(cur.left)\n",
    "            postTra(cur.right)\n",
    "            stack.append(cur.val)\n",
    "            return\n",
    "    postTra(root)\n",
    "    for s in stack[:-1]:\n",
    "        print(s, end=' ')\n",
    "    print(stack[-1],end='')\n",
    "\n",
    "main()"
   ]
  },
  {
   "cell_type": "code",
   "execution_count": 37,
   "metadata": {},
   "outputs": [
    {
     "name": "stdout",
     "output_type": "stream",
     "text": [
      "3\n",
      "push 1\n",
      "push 2\n",
      "Pop\n",
      "Pop\n",
      "push 3\n",
      "Pop\n",
      "2 3 1"
     ]
    }
   ],
   "source": [
    "main()"
   ]
  },
  {
   "cell_type": "code",
   "execution_count": 8,
   "metadata": {},
   "outputs": [
    {
     "name": "stdout",
     "output_type": "stream",
     "text": [
      "6\n",
      "Push 1\n",
      "Push 2\n",
      "Push 3\n",
      "Pop\n",
      "Pop\n",
      "Push 4\n",
      "Pop\n",
      "Pop\n",
      "Push 5\n",
      "Push 6\n",
      "Pop\n",
      "Pop\n",
      "3 "
     ]
    }
   ],
   "source": [
    "posttra()"
   ]
  },
  {
   "cell_type": "code",
   "execution_count": null,
   "metadata": {
    "collapsed": true
   },
   "outputs": [],
   "source": []
  }
 ],
 "metadata": {
  "kernelspec": {
   "display_name": "Python 3",
   "language": "python",
   "name": "python3"
  },
  "language_info": {
   "codemirror_mode": {
    "name": "ipython",
    "version": 3
   },
   "file_extension": ".py",
   "mimetype": "text/x-python",
   "name": "python",
   "nbconvert_exporter": "python",
   "pygments_lexer": "ipython3",
   "version": "3.5.4"
  }
 },
 "nbformat": 4,
 "nbformat_minor": 2
}
