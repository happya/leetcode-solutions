{
 "cells": [
  {
   "cell_type": "code",
   "execution_count": 41,
   "metadata": {},
   "outputs": [
    {
     "name": "stdout",
     "output_type": "stream",
     "text": [
      "2 1 2 1 0\n",
      "2 1 1 1 0\n",
      "1 3 1 2 1 1 1 0\n",
      "1 2 1 1 2 0"
     ]
    }
   ],
   "source": [
    "def read():\n",
    "    f = input().split(' ')\n",
    "    n = int(f[0])\n",
    "    dic = {}\n",
    "    for i in range(n):\n",
    "        c, e = int(f[i*2+1]),int(f[i*2+2])        \n",
    "        dic[e] = c\n",
    "    return dic\n",
    "\n",
    "def add(d1,d2):\n",
    "    d = d1.copy()\n",
    "    tmp = []\n",
    "    for e2,c2 in d2.items():\n",
    "        if e2 not in d:\n",
    "            d[e2] = c2\n",
    "        else:\n",
    "            d[e2]+=c2\n",
    "    return d\n",
    "\n",
    "def multi(d1,d2):\n",
    "    d = {}\n",
    "    for e1,c1 in d1.items():\n",
    "        for e2,c2 in d2.items():\n",
    "            e = e1+e2\n",
    "            if e not in d:\n",
    "                d[e] = c1*c2\n",
    "            else:\n",
    "                d[e] =d[e]+c1*c2\n",
    "\n",
    "    \n",
    "    return d\n",
    "    \n",
    "def compu():\n",
    "    dummy = 0\n",
    "    d1 = read()\n",
    "    d2 =read()\n",
    "\n",
    "    \n",
    "    if not d1 and not d2:\n",
    "        print(dummy,dummy,end='')\n",
    "        return\n",
    "    \n",
    "    res_multi=multi(d1,d2)\n",
    "    res_add = add(d1,d2)\n",
    "    #print(res_multi,res_add)\n",
    "    if res_multi:\n",
    "        s_multi = sorted(res_multi.items(),key=lambda x:x[0],reverse=True)\n",
    "        r1=[]\n",
    "        for item in s_multi:\n",
    "            if item[1] or (not item[1] and not item[0]):\n",
    "                r1.append(item[1])\n",
    "                r1.append(item[0])\n",
    "        for r in r1[:-1]:\n",
    "            print(r,end=' ')\n",
    "        print(r1[-1],end='')\n",
    "        print('')\n",
    "    else:\n",
    "        print(dummy,dummy,end='')\n",
    "        print('')\n",
    "        \n",
    "    \n",
    "    r2=[]\n",
    "    s_add = sorted(res_add.items(),key=lambda x:x[0],reverse=True)\n",
    "    for item in s_add:\n",
    "        if item[1]:\n",
    "            r2.append(item[1])\n",
    "            r2.append(item[0])\n",
    "    if r2:\n",
    "        for r in r2[:-1]:\n",
    "            print(r,end=' ')\n",
    "        print(r2[-1],end = '')\n",
    "    else:\n",
    "        print(dummy,dummy,end='')\n",
    "    return\n",
    "compu()"
   ]
  },
  {
   "cell_type": "code",
   "execution_count": null,
   "metadata": {
    "collapsed": true
   },
   "outputs": [],
   "source": [
    "3 1 3 3 2 2 0\n",
    "4 1 4 -1 3 -3 2 5 0"
   ]
  },
  {
   "cell_type": "code",
   "execution_count": null,
   "metadata": {
    "collapsed": true
   },
   "outputs": [],
   "source": [
    "15 24 -25 22 30 21 -10 20 -21 8 35 6 -33 5 14 4 -15 3 18 2 -6 1\n",
    "5 20 -4 4 -5 2 9 1 -2 0\n",
    "\n",
    "4 3 4 -5 2 6 1 -2 0\n",
    "3 5 20 -7 4 3 1"
   ]
  }
 ],
 "metadata": {
  "kernelspec": {
   "display_name": "Python 3",
   "language": "python",
   "name": "python3"
  },
  "language_info": {
   "codemirror_mode": {
    "name": "ipython",
    "version": 3
   },
   "file_extension": ".py",
   "mimetype": "text/x-python",
   "name": "python",
   "nbconvert_exporter": "python",
   "pygments_lexer": "ipython3",
   "version": "3.5.4"
  }
 },
 "nbformat": 4,
 "nbformat_minor": 2
}
