{
 "cells": [
  {
   "cell_type": "code",
   "execution_count": 11,
   "metadata": {},
   "outputs": [
    {
     "name": "stdout",
     "output_type": "stream",
     "text": [
      "1 5 2\n",
      "1 1 2\n",
      "2 2 3\n",
      "3 3 4\n",
      "4 4 -1\n",
      "5 5 1\n",
      "node numbers: 4\n",
      "2 2 1\n",
      "1 1 4\n",
      "4 4 3\n",
      "3 3 -1"
     ]
    }
   ],
   "source": [
    "class ListNode(object):\n",
    "     def __init__(self, x,y):\n",
    "            self.val = x\n",
    "            self.addr=y\n",
    "            self.next = None\n",
    "            \n",
    "def read():\n",
    "    dic = {}\n",
    "    line = input().split()\n",
    "    if not line:\n",
    "        return dic,0,0,0\n",
    "    iHead, n, k =line[0],int(line[1]),int(line[2])\n",
    "    \n",
    "    for i in range(n):\n",
    "        line = input().split()\n",
    "        addr, data, nex = line[0],int(line[1]),line[2]\n",
    "        dic[addr] = [data,nex]\n",
    "    return dic,iHead,n,k\n",
    "\n",
    "def formL(dic,iHead):\n",
    "    if not dic:\n",
    "        return None\n",
    "    head = ListNode(dic[iHead][0],iHead)\n",
    "    cur = head\n",
    "    num = 1\n",
    "    next_addr=dic[cur.addr][1]\n",
    "    while next_addr!=\"-1\":\n",
    "        [data,cur_addr] = dic[next_addr]\n",
    "        cur.next = ListNode(data,next_addr)\n",
    "        next_addr = cur_addr\n",
    "        cur = cur.next\n",
    "        num +=1\n",
    "    cur.next = None\n",
    "    return head,num\n",
    "\n",
    "def rever(cur_head, pre,k): \n",
    "        old_pre = pre\n",
    "        cur_node = cur_head\n",
    "        for i in range(k):           \n",
    "            _next = cur_node.next\n",
    "            cur_node.next = pre\n",
    "            pre = cur_node\n",
    "            cur_node = _next\n",
    "\n",
    "        cur_tail = cur_head      \n",
    "        cur_tail.next = cur_node\n",
    "        old_pre.next = pre\n",
    "        return cur_node,cur_tail\n",
    "\n",
    "def show(head):\n",
    "    if not head:\n",
    "        return None\n",
    "    cur = head\n",
    "    while cur and cur.next:\n",
    "        print(cur.addr,cur.val,cur.next.addr,end='')\n",
    "        print('')\n",
    "        cur = cur.next\n",
    "    print(cur.addr,cur.val,-1,end='')\n",
    "    \n",
    "def main():\n",
    "    dic,iHead,n,k=read()\n",
    "    head,num = formL(dic,iHead)\n",
    "    #print(\"node numbers:\",num)\n",
    "    if not head:\n",
    "        return\n",
    "    if k<2 or num<k:\n",
    "        show(head)\n",
    "        return\n",
    "    \n",
    "    dummy = ListNode(0,'dummy')\n",
    "    cur_head = head\n",
    "    dummy.next = head\n",
    "    pre = dummy\n",
    "    t = int(num/k)\n",
    "\n",
    "    for i in range(t):\n",
    "        [cur_head,pre] = rever(cur_head,pre,k)\n",
    "        \n",
    "    show(dummy.next)\n",
    "    return\n",
    "        \n",
    "main()"
   ]
  },
  {
   "cell_type": "code",
   "execution_count": 42,
   "metadata": {
    "collapsed": true
   },
   "outputs": [],
   "source": []
  },
  {
   "cell_type": "code",
   "execution_count": 43,
   "metadata": {},
   "outputs": [
    {
     "name": "stdout",
     "output_type": "stream",
     "text": [
      "00100 6 4\n",
      "00000 4 99999\n",
      "00100 1 12309\n",
      "68237 6 -1\n",
      "33218 3 00000\n",
      "99999 5 68237\n",
      "12309 2 33218\n",
      "00000 4 33218\n",
      "33218 3 12309\n",
      "12309 2 00100\n",
      "00100 1 99999\n",
      "99999 5 68237\n",
      "68237 6 -1"
     ]
    }
   ],
   "source": [
    "main()"
   ]
  },
  {
   "cell_type": "code",
   "execution_count": 34,
   "metadata": {},
   "outputs": [
    {
     "data": {
      "text/plain": [
       "'    0'"
      ]
     },
     "execution_count": 34,
     "metadata": {},
     "output_type": "execute_result"
    }
   ],
   "source": [
    "x=0\n",
    "format(x,\"5d\")"
   ]
  },
  {
   "cell_type": "code",
   "execution_count": null,
   "metadata": {
    "collapsed": true
   },
   "outputs": [],
   "source": [
    "00100 6 4\n",
    "00000 4 99999\n",
    "00100 1 12309\n",
    "68237 6 -1\n",
    "33218 3 00000\n",
    "99999 5 68237\n",
    "12309 2 33218\n",
    "\n",
    "00000 4 33218\n",
    "33218 3 12309\n",
    "12309 2 00100\n",
    "00100 1 99999\n",
    "99999 5 68237\n",
    "68237 6 -1"
   ]
  }
 ],
 "metadata": {
  "kernelspec": {
   "display_name": "Python 3",
   "language": "python",
   "name": "python3"
  },
  "language_info": {
   "codemirror_mode": {
    "name": "ipython",
    "version": 3
   },
   "file_extension": ".py",
   "mimetype": "text/x-python",
   "name": "python",
   "nbconvert_exporter": "python",
   "pygments_lexer": "ipython3",
   "version": "3.5.4"
  }
 },
 "nbformat": 4,
 "nbformat_minor": 2
}
