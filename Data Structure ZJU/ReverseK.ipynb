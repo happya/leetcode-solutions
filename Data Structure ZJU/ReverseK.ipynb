{
 "cells": [
  {
   "cell_type": "code",
   "execution_count": 57,
   "metadata": {
    "collapsed": true
   },
   "outputs": [],
   "source": [
    "def rever(cur_head, pre,k):\n",
    "    print(dic[cur_head])\n",
    "    new_head = cur_head\n",
    "\n",
    "    for i in range(k-1):\n",
    "        new_head = dic[new_head][1]\n",
    "        if new_head==-1:\n",
    "            return\n",
    "\n",
    "    cur_node = cur_head\n",
    "    for i in range(k):\n",
    "        _next = dic[cur_node][1]\n",
    "        if pre!=-1:\n",
    "            dic[cur_node] = (dic[cur_node][0],dic[pre][1])\n",
    "        pre = cur_node\n",
    "        cur_node = _next\n",
    "\n",
    "    cur_tail = cur_head\n",
    "    cur_head = cur_node\n",
    "    dic[cur_tail] = (dic[cur_tail][0],cur_head)\n",
    "\n",
    "    return new_head,cur_head,cur_tail\n",
    "\n",
    "def show(head):\n",
    "    node = head\n",
    "    while dic[node][1]!=-1:\n",
    "        print(node,dic[node][0],dic[node][1],'\\n')\n",
    "        node = dic[node][1]\n",
    "    return"
   ]
  },
  {
   "cell_type": "code",
   "execution_count": 68,
   "metadata": {},
   "outputs": [],
   "source": [
    "def main():\n",
    "    line1 = input().split(' ')\n",
    "    head, n,k=int(line1[0]),int(line1[1]),int(line1[2])\n",
    "    dic = {}\n",
    "    #dic[-1] = None\n",
    "    for i in range(n):\n",
    "        line = input().split(' ')\n",
    "        nadd,nval, nnext = int(line[0]),int(line[1]),int(line[2])\n",
    "        dic[nadd] = (nval,nnext)\n",
    "    print(dic)\n",
    "\n",
    "    k = k%n\n",
    "    if k<2:\n",
    "        show(head)\n",
    "        return\n",
    "    cur_head = head # 第一个cur_head就是链表的head\n",
    "\n",
    "    first = rever(cur_head,-1,k) # 第一次反向的子链表很特殊\n",
    "    if not first:\n",
    "        show(head)\n",
    "        return\n",
    "\n",
    "    _head,cur_head,cur_tail = first[0],first[1],first[2]\n",
    "\n",
    "\n",
    "    while(cur_head):\n",
    "        res = rever(cur_head,cur_tail,k)\n",
    "\n",
    "        if res:\n",
    "            dic[cur_tail] =(dic[cur_tail][0], res[0])\n",
    "            cur_head = res[1]\n",
    "            cur_tail = res[2]\n",
    "        else:\n",
    "            show(_head)\n",
    "            return\n",
    "\n",
    "    show(head)\n",
    "    return\n"
   ]
  },
  {
   "cell_type": "code",
   "execution_count": null,
   "metadata": {},
   "outputs": [],
   "source": [
    "main()\n",
    "print(dic[1])"
   ]
  },
  {
   "cell_type": "code",
   "execution_count": 63,
   "metadata": {},
   "outputs": [
    {
     "name": "stdout",
     "output_type": "stream",
     "text": [
      "(1, -1)\n"
     ]
    }
   ],
   "source": [
    "print(dic[1])"
   ]
  },
  {
   "cell_type": "code",
   "execution_count": null,
   "metadata": {
    "collapsed": true
   },
   "outputs": [],
   "source": []
  }
 ],
 "metadata": {
  "kernelspec": {
   "display_name": "Python 3",
   "language": "python",
   "name": "python3"
  },
  "language_info": {
   "codemirror_mode": {
    "name": "ipython",
    "version": 3
   },
   "file_extension": ".py",
   "mimetype": "text/x-python",
   "name": "python",
   "nbconvert_exporter": "python",
   "pygments_lexer": "ipython3",
   "version": "3.5.4"
  }
 },
 "nbformat": 4,
 "nbformat_minor": 2
}
