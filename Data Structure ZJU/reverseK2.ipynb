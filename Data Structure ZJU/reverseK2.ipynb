{
 "cells": [
  {
   "cell_type": "code",
   "execution_count": 19,
   "metadata": {},
   "outputs": [
    {
     "name": "stdout",
     "output_type": "stream",
     "text": [
      "1 5 2\n",
      "1 1 2\n",
      "2 2 3\n",
      "3 3 4\n",
      "4 4 5\n",
      "5 5 -1\n",
      "00002 2 00001\n",
      "00001 1 00004\n",
      "00004 4 00003\n",
      "00003 3 00005\n",
      "00005 5 -1"
     ]
    }
   ],
   "source": [
    "class ListNode(object):\n",
    "     def __init__(self, x,y):\n",
    "            self.val = x\n",
    "            self.addr=y\n",
    "            self.next = None\n",
    "            \n",
    "def read():\n",
    "    dic = [0]*100000\n",
    "    line = input().split()\n",
    "    if not line:\n",
    "        return dic,0,0,0\n",
    "    iHead, n, k =map(int,(line[i] for i in range(3)))\n",
    "    \n",
    "    for i in range(n):\n",
    "        line = input().split()\n",
    "        addr, data, nex = map(int,(line[i] for i in range(3)))\n",
    "        dic[addr] = (data,nex)\n",
    "    return dic,iHead,n,k\n",
    "\n",
    "def formL(dic,iHead):\n",
    "    if not dic:\n",
    "        return None\n",
    "    head = ListNode(dic[iHead][0],iHead)\n",
    "    RList = [head]\n",
    "    cur = head\n",
    "\n",
    "    next_addr=dic[cur.addr][1]\n",
    "    while next_addr!=-1:\n",
    "        [data,cur_addr] = dic[next_addr]\n",
    "        RList.append(ListNode(data,next_addr))\n",
    "        next_addr = cur_addr    \n",
    "    return RList,len(RList)\n",
    "\n",
    "\n",
    "\n",
    "def show(start,end,RList,num,k,R):\n",
    "    if R:\n",
    "        for i in range(end,start,-1):\n",
    "            print(\"%05d\" ' ' \"%d\" ' ' \"%05d\" %(RList[i].addr,RList[i].val,RList[i-1].addr),end='')\n",
    "            print('')\n",
    "        step = start+2*k-1\n",
    "        if start+step<num:\n",
    "            print(\"%05d\" ' ' \"%d\" ' ' \"%05d\" %(RList[start].addr,RList[start].val,RList[start+step].addr),end='')\n",
    "            print('')\n",
    "        elif end+1<num:\n",
    "            print(\"%05d\" ' ' \"%d\" ' ' \"%05d\" %(RList[start].addr,RList[start].val,RList[end+1].addr),end='')\n",
    "            print('')\n",
    "        else:\n",
    "            print(\"%05d\" ' ' \"%d\" ' ' \"%d\" %(RList[start].addr,RList[start].val,-1),end='')\n",
    "    else:\n",
    "        for i in range(start,end+1):\n",
    "            if i<end:\n",
    "                print(\"%05d\" ' ' \"%d\" ' ' \"%05d\" %(RList[i].addr,RList[i].val,RList[i+1].addr),end='')\n",
    "                print('')\n",
    "            else:\n",
    "                print(\"%05d\" ' ' \"%d\" ' ' \"%d\" %(RList[end].addr,RList[end].val,-1),end='')\n",
    "    \n",
    "    \n",
    "def main():\n",
    "    dic,iHead,n,k=read()\n",
    "    RList,num = formL(dic,iHead)\n",
    "    #print(\"node numbers:\",num)\n",
    "    if not RList:\n",
    "        return\n",
    "    if k<2 or num<k:\n",
    "        show(0,num-1,RList,num,k,False)\n",
    "        return\n",
    "    t = int(num/k)\n",
    "    for i in range(t):\n",
    "        start,end = k*i,k*(i+1)-1\n",
    "        show(start,end,RList,num,k,True)\n",
    "\n",
    "    show(k*t,num-1,RList,num,k,False)\n",
    "    return\n",
    "        \n",
    "main()"
   ]
  },
  {
   "cell_type": "code",
   "execution_count": 45,
   "metadata": {},
   "outputs": [
    {
     "name": "stdout",
     "output_type": "stream",
     "text": [
      "1 5 2\n",
      "1 1 2\n",
      "2 2 3\n",
      "3 3 4\n",
      "4 4 5\n",
      "5 5 -1\n",
      "node numbers: 5\n",
      "00002 2 00001\n",
      "00001 1 00004\n",
      "00004 4 00003\n",
      "00003 3 00005\n",
      "00005 5 -1"
     ]
    }
   ],
   "source": [
    "main()"
   ]
  },
  {
   "cell_type": "code",
   "execution_count": 35,
   "metadata": {},
   "outputs": [
    {
     "name": "stdout",
     "output_type": "stream",
     "text": [
      "00005 000005000005"
     ]
    }
   ],
   "source": [
    "a = 5\n",
    "print(\"%05d\" ' ' \"%06d\" %(a,a),end = '')\n",
    "print(\"%06d\" % a, end='')"
   ]
  },
  {
   "cell_type": "code",
   "execution_count": null,
   "metadata": {
    "collapsed": true
   },
   "outputs": [],
   "source": []
  }
 ],
 "metadata": {
  "kernelspec": {
   "display_name": "Python 3",
   "language": "python",
   "name": "python3"
  },
  "language_info": {
   "codemirror_mode": {
    "name": "ipython",
    "version": 3
   },
   "file_extension": ".py",
   "mimetype": "text/x-python",
   "name": "python",
   "nbconvert_exporter": "python",
   "pygments_lexer": "ipython3",
   "version": "3.5.4"
  }
 },
 "nbformat": 4,
 "nbformat_minor": 2
}
