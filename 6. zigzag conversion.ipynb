{
 "cells": [
  {
   "cell_type": "markdown",
   "metadata": {},
   "source": [
    "# 6. zigzag conversion\n",
    "---\n",
    "The string \"PAYPALISHIRING\" is written in a zigzag pattern on a given number of rows like this: (you may want to display this pattern in a fixed font for better legibility).  \n",
    "\n",
    "\n",
    "<pre>\n",
    "P   A   H   N\n",
    "A P L S I I G\n",
    "Y   I   R\n",
    "</pre>   \n",
    "\n",
    "And then read line by line: \"PAHNAPLSIIGYIR\"  \n",
    "Write the code that will take a string and make this conversion given a number of rows:  \n",
    "\n",
    "```\n",
    "string convert(string text, int nRows);  \n",
    "convert(\"PAYPALISHIRING\", 3)  \n",
    "```\n",
    "should return \"PAHNAPLSIIGYIR\"."
   ]
  },
  {
   "cell_type": "code",
   "execution_count": null,
   "metadata": {
    "collapsed": true
   },
   "outputs": [],
   "source": [
    "class Solution(object):\n",
    "    def convert(self, s, numRows):\n",
    "        \"\"\"\n",
    "        :type s: str\n",
    "        :type numRows: int\n",
    "        :rtype: str\n",
    "        \"\"\"\n",
    "        if not s: return ''\n",
    "        n = len(s)\n",
    "        if numRows==1  or n<=numRows: return s\n",
    "        tmp = ''\n",
    "        a = numRows-1\n",
    "        cmax = n/(2*a)+1\n",
    "        for row in range(numRows):\n",
    "            for colj in range(cmax):\n",
    "                base = row + 2*colj*a\n",
    "                \n",
    "                if base<n:\n",
    "                    tmp+=s[base]\n",
    "                    if row%a and (base+(a-row)*2)<n:\n",
    "                        \n",
    "                        tmp+= s[base+(a-row)*2]\n",
    "                    \n",
    "                        \n",
    "        return tmp"
   ]
  }
 ],
 "metadata": {
  "kernelspec": {
   "display_name": "Python 2",
   "language": "python",
   "name": "python2"
  },
  "language_info": {
   "codemirror_mode": {
    "name": "ipython",
    "version": 2
   },
   "file_extension": ".py",
   "mimetype": "text/x-python",
   "name": "python",
   "nbconvert_exporter": "python",
   "pygments_lexer": "ipython2",
   "version": "2.7.12"
  }
 },
 "nbformat": 4,
 "nbformat_minor": 1
}
