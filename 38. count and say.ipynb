{
 "cells": [
  {
   "cell_type": "markdown",
   "metadata": {},
   "source": [
    "# 38. Count and Say\n",
    "---\n",
    "The count-and-say sequence is the sequence of integers beginning as follows:\n",
    "1, 11, 21, 1211, 111221, ...\n",
    "\n",
    "1 is read off as \"one 1\" or 11.\n",
    "11 is read off as \"two 1s\" or 21.\n",
    "21 is read off as \"one 2, then one 1\" or 1211.\n",
    "Given an integer n, generate the nth sequence.\n",
    "\n",
    "Note: The sequence of integers will be represented as a string."
   ]
  },
  {
   "cell_type": "code",
   "execution_count": 50,
   "metadata": {
    "collapsed": true
   },
   "outputs": [],
   "source": [
    "# pass 38ms, 96%\n",
    "def countAndSay(n):\n",
    "    \"\"\"\n",
    "    :type n: int\n",
    "    :rtype: str\n",
    "    \"\"\"\n",
    "    s = '1'\n",
    "\n",
    "    for i in range(n-1):\n",
    "        tmp = ''\n",
    "        t = s[0]\n",
    "        c = 1\n",
    "        for j in range(1,len(s)):\n",
    "\n",
    "            if s[j]==t:\n",
    "                c+=1\n",
    "            else:\n",
    "                tmp += (str(c)+str(t))\n",
    "                #print \"tmp: \", tmp\n",
    "                c, t = 1, s[j]\n",
    "        s=tmp+str(c)+str(t)\n",
    "        print s\n",
    "\n",
    "    return s"
   ]
  },
  {
   "cell_type": "code",
   "execution_count": null,
   "metadata": {
    "collapsed": false
   },
   "outputs": [],
   "source": []
  },
  {
   "cell_type": "code",
   "execution_count": null,
   "metadata": {
    "collapsed": true
   },
   "outputs": [],
   "source": []
  }
 ],
 "metadata": {
  "kernelspec": {
   "display_name": "Python 2",
   "language": "python",
   "name": "python2"
  },
  "language_info": {
   "codemirror_mode": {
    "name": "ipython",
    "version": 2
   },
   "file_extension": ".py",
   "mimetype": "text/x-python",
   "name": "python",
   "nbconvert_exporter": "python",
   "pygments_lexer": "ipython2",
   "version": "2.7.12"
  }
 },
 "nbformat": 4,
 "nbformat_minor": 1
}
