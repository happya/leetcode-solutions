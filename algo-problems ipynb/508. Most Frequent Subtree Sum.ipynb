{
 "cells": [
  {
   "cell_type": "markdown",
   "metadata": {},
   "source": [
    "# 508. Most Frequent Subtree Sum\n",
    "---"
   ]
  },
  {
   "cell_type": "code",
   "execution_count": null,
   "metadata": {
    "collapsed": true
   },
   "outputs": [],
   "source": [
    "Given the root of a tree, you are asked to find the most frequent subtree sum. The subtree sum of a node is defined as the sum of all the node values formed by the subtree rooted at that node (including the node itself). So what is the most frequent subtree sum value? If there is a tie, return all the values with the highest frequency in any order.\n",
    "\n",
    "Examples 1\n",
    "Input:\n",
    "```python\n",
    "\n",
    "  5\n",
    " /  \\\n",
    "2   -3\n",
    "return [2, -3, 4], since all the values happen only once, return all of them in any order.\n",
    "Examples 2\n",
    "Input:\n",
    "\n",
    "  5\n",
    " /  \\\n",
    "2   -5\n",
    "return [2], since 2 happens twice, however -5 only occur once.\n",
    "Note: You may assume the sum of values in any subtree is in the range of 32-bit signed integer.\n",
    "\n"
   ]
  },
  {
   "cell_type": "code",
   "execution_count": 1,
   "metadata": {
    "collapsed": true
   },
   "outputs": [],
   "source": [
    "class Solution:\n",
    "    def findFrequentTreeSum(self, root):\n",
    "        \"\"\"\n",
    "        :type root: TreeNode\n",
    "        :rtype: List[int]\n",
    "        \"\"\"\n",
    "        if not root:\n",
    "            return []\n",
    "        res = []\n",
    "        self.SumNode(root,res)\n",
    "        fre = set(res)\n",
    "        if len(res)==len(fre):\n",
    "            return res\n",
    "        dic={}\n",
    "        for value in fre:\n",
    "            c= res.count(value)\n",
    "            if c not in dic:\n",
    "                dic[c]=[value]\n",
    "            else:\n",
    "                dic[c].append(value)\n",
    "        k=sorted(dic.items(),reverse=True)\n",
    "        return k[0][1]    \n",
    "    \n",
    "    def SumNode(self,root,res):\n",
    "        if not root:\n",
    "            return 0\n",
    "        if root and not root.left and not root.right:\n",
    "            res.append(root.val)\n",
    "            return root.val\n",
    "        else:\n",
    "            tmp = root.val+self.SumNode(root.left,res)+self.SumNode(root.right,res)\n",
    "            res.append(tmp)\n",
    "            return tmp        "
   ]
  },
  {
   "cell_type": "code",
   "execution_count": null,
   "metadata": {
    "collapsed": true
   },
   "outputs": [],
   "source": []
  }
 ],
 "metadata": {
  "kernelspec": {
   "display_name": "Python 3",
   "language": "python",
   "name": "python3"
  },
  "language_info": {
   "codemirror_mode": {
    "name": "ipython",
    "version": 3
   },
   "file_extension": ".py",
   "mimetype": "text/x-python",
   "name": "python",
   "nbconvert_exporter": "python",
   "pygments_lexer": "ipython3",
   "version": "3.5.4"
  }
 },
 "nbformat": 4,
 "nbformat_minor": 2
}
