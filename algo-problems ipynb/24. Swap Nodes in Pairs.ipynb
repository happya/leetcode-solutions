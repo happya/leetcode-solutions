{
 "cells": [
  {
   "cell_type": "markdown",
   "metadata": {},
   "source": [
    "# 24. Swap Nodes in Pairs\n",
    "---\n"
   ]
  },
  {
   "cell_type": "markdown",
   "metadata": {},
   "source": [
    "## Description\n",
    "---\n",
    "\n",
    "Given a linked list, swap every two adjacent nodes and return its head.\n",
    "\n",
    "For example,\n",
    "Given ```1->2->3->4```, you should return the list as ```2->1->4->3```.\n",
    "\n",
    "Your algorithm should use only constant space. You may not modify the values in the list, only nodes itself can be changed."
   ]
  },
  {
   "cell_type": "code",
   "execution_count": 2,
   "metadata": {
    "collapsed": true
   },
   "outputs": [],
   "source": [
    "# Definition for singly-linked list.\n",
    "class ListNode(object):\n",
    "     def __init__(self, x):\n",
    "            self.val = x\n",
    "            self.next = None"
   ]
  },
  {
   "cell_type": "code",
   "execution_count": 5,
   "metadata": {},
   "outputs": [],
   "source": [
    "def swapPairs(head):\n",
    "        \"\"\"\n",
    "        :type head: ListNode\n",
    "        :rtype: ListNode\n",
    "        \"\"\"\n",
    "        dummy = cur = ListNode(None)\n",
    "        cur.next = head \n",
    "        while cur.next and cur.next.next:\n",
    "            h1, h2 = cur.next, cur.next.next\n",
    "            cur.next, h1.next, h2.next = h2, h2.next,h1\n",
    "            cur = h2.next\n",
    "        return dummy.next\n",
    "        "
   ]
  },
  {
   "cell_type": "code",
   "execution_count": null,
   "metadata": {
    "collapsed": true
   },
   "outputs": [],
   "source": []
  }
 ],
 "metadata": {
  "kernelspec": {
   "display_name": "Python 3",
   "language": "python",
   "name": "python3"
  },
  "language_info": {
   "codemirror_mode": {
    "name": "ipython",
    "version": 3
   },
   "file_extension": ".py",
   "mimetype": "text/x-python",
   "name": "python",
   "nbconvert_exporter": "python",
   "pygments_lexer": "ipython3",
   "version": "3.5.4"
  }
 },
 "nbformat": 4,
 "nbformat_minor": 2
}
