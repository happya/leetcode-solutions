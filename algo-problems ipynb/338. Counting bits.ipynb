{
 "cells": [
  {
   "cell_type": "markdown",
   "metadata": {},
   "source": [
    "# 338 Counting bits"
   ]
  },
  {
   "cell_type": "markdown",
   "metadata": {},
   "source": [
    "Given a non negative integer number num. For every numbers i in the range 0 ≤ i ≤ num calculate the number of 1's in their binary representation and return them as an array.\n",
    "\n",
    "Example:\n",
    "For `num = 5` you should return `[0,1,1,2,1,2]`.\n",
    "\n",
    "Follow up:\n",
    "\n",
    "It is very easy to come up with a solution with run time O(n*sizeof(integer)). But can you do it in linear time O(n) /possibly in a single pass?\n",
    "Space complexity should be O(n).\n",
    "Can you do it like a boss? Do it without using any builtin function like __builtin_popcount in c++ or in any other language."
   ]
  },
  {
   "cell_type": "markdown",
   "metadata": {},
   "source": [
    "## solution 1:\n",
    "---\n",
    "直观求解，对从0到n的数，计算每一个数的二进制的1的个数。\n",
    "> 计算方法：对每一个 $0\\le i \\le n$，将其与只有一位数是1的数相与，统计其所有1的个数。\n",
    "\n",
    "\n",
    "> run time: $O(n*sizeof(n))$, space: $O(n)$"
   ]
  },
  {
   "cell_type": "code",
   "execution_count": 6,
   "metadata": {
    "collapsed": true
   },
   "outputs": [],
   "source": [
    "def CountNum1(num):\n",
    "    a = [0]\n",
    "    if not num: return a\n",
    "    for i in range(1,num+1):\n",
    "        select_bit= 1\n",
    "        num_of_1=0\n",
    "        while(select_bit<=i):\n",
    "            if(select_bit&i):\n",
    "                num_of_1=num_of_1+1\n",
    "            select_bit=select_bit<<1\n",
    "        a.append(num_of_1)\n",
    "    return a"
   ]
  },
  {
   "cell_type": "code",
   "execution_count": 7,
   "metadata": {},
   "outputs": [
    {
     "name": "stdout",
     "output_type": "stream",
     "text": [
      "[0, 1, 1, 2, 1, 2, 2, 3, 1, 2, 2]\n"
     ]
    }
   ],
   "source": [
    "print(CountNum1(10))"
   ]
  },
  {
   "cell_type": "markdown",
   "metadata": {},
   "source": [
    "## solution 2:\n",
    "----\n",
    "使用trick，对每一个数$i$，其1的个数为：$i\\& (i-1)$中1的个数再加1\n",
    "> run time $O(n)$"
   ]
  },
  {
   "cell_type": "code",
   "execution_count": 12,
   "metadata": {
    "collapsed": true
   },
   "outputs": [],
   "source": [
    "def CountNum2(num):\n",
    "    a = [0]\n",
    "    if not num:\n",
    "        return a\n",
    "    for i in range(1,num+1):\n",
    "        a.append(a[i&(i-1)]+1)\n",
    "    return a\n",
    "    "
   ]
  },
  {
   "cell_type": "code",
   "execution_count": 11,
   "metadata": {},
   "outputs": [
    {
     "name": "stdout",
     "output_type": "stream",
     "text": [
      "[0, 1, 1, 2, 1, 2, 2, 3, 1, 2, 2]\n"
     ]
    }
   ],
   "source": [
    "print(CountNum2(10))"
   ]
  },
  {
   "cell_type": "code",
   "execution_count": null,
   "metadata": {
    "collapsed": true
   },
   "outputs": [],
   "source": []
  }
 ],
 "metadata": {
  "kernelspec": {
   "display_name": "Python 3",
   "language": "python",
   "name": "python3"
  },
  "language_info": {
   "codemirror_mode": {
    "name": "ipython",
    "version": 3
   },
   "file_extension": ".py",
   "mimetype": "text/x-python",
   "name": "python",
   "nbconvert_exporter": "python",
   "pygments_lexer": "ipython3",
   "version": "3.6.1"
  }
 },
 "nbformat": 4,
 "nbformat_minor": 2
}
