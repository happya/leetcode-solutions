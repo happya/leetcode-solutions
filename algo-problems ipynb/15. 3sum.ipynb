{
 "cells": [
  {
   "cell_type": "markdown",
   "metadata": {},
   "source": [
    "# 15. 3sum\n",
    "---\n",
    "Given an array S of n integers, are there elements a, b, c in S such that a + b + c = 0? Find all unique triplets in the array which gives the sum of zero.\n",
    "\n",
    "Note: The solution set must not contain duplicate triplets."
   ]
  },
  {
   "cell_type": "code",
   "execution_count": 17,
   "metadata": {
    "collapsed": true
   },
   "outputs": [],
   "source": [
    "# 158 ms 98%\n",
    "# 和第十五题的2sum类似\n",
    "# 为了方便处理重复的情况，先对数组进行排序，然后遍历数组中所有非重复值\n",
    "# 执行2sum\n",
    "class Solution(object):\n",
    "    def threeSum(self, nums):\n",
    "        \"\"\"\n",
    "        :type nums: List[int]\n",
    "        :rtype: List[List[int]]\n",
    "        \"\"\"\n",
    "        n = len(nums)\n",
    "        if n<3: return []\n",
    "        nums.sort()\n",
    "        \n",
    "        result = []\n",
    "         \n",
    "        for i, a in enumerate(nums[:-2]):\n",
    "            if i>0 and a == nums[i-1]: continue\n",
    "            d = {}\n",
    "            t = -a\n",
    "            j = i+1\n",
    "            while j<n:\n",
    "                if t-nums[j] in d:\n",
    "                    result.append([a,nums[j],t-nums[j]])\n",
    "                    while j+1<n and nums[j]==nums[j+1]:\n",
    "                        j += 1\n",
    "                else:\n",
    "                    d[nums[j]] = j\n",
    "                j+=1\n",
    "        return result"
   ]
  },
  {
   "cell_type": "code",
   "execution_count": null,
   "metadata": {
    "collapsed": true
   },
   "outputs": [],
   "source": []
  },
  {
   "cell_type": "code",
   "execution_count": null,
   "metadata": {
    "collapsed": true
   },
   "outputs": [],
   "source": []
  }
 ],
 "metadata": {
  "kernelspec": {
   "display_name": "Python 2",
   "language": "python",
   "name": "python2"
  },
  "language_info": {
   "codemirror_mode": {
    "name": "ipython",
    "version": 2
   },
   "file_extension": ".py",
   "mimetype": "text/x-python",
   "name": "python",
   "nbconvert_exporter": "python",
   "pygments_lexer": "ipython2",
   "version": "2.7.12"
  }
 },
 "nbformat": 4,
 "nbformat_minor": 1
}
