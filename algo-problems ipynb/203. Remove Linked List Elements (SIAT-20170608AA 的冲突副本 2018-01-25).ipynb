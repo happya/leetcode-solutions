{
 "cells": [
  {
   "cell_type": "markdown",
   "metadata": {},
   "source": [
    "# 203. Remove Linked List Elements\n",
    "---"
   ]
  },
  {
   "cell_type": "markdown",
   "metadata": {},
   "source": [
    "Remove all elements from a linked list of integers that have value val.\n",
    "\n",
    "Example\n",
    "```python\n",
    "Given: 1 --> 2 --> 6 --> 3 --> 4 --> 5 --> 6, val = 6\n",
    "Return: 1 --> 2 --> 3 --> 4 --> 5\n",
    "```"
   ]
  },
  {
   "cell_type": "code",
   "execution_count": 2,
   "metadata": {
    "collapsed": true
   },
   "outputs": [],
   "source": [
    "def removeElements(head, val):\n",
    "        \"\"\"\n",
    "        :type head: ListNode\n",
    "        :type val: int\n",
    "        :rtype: ListNode\n",
    "        \"\"\"\n",
    "        if not head:\n",
    "            return None\n",
    "        pre = None\n",
    "        cur = head\n",
    "        while cur:\n",
    "            _next = cur.next\n",
    "            if cur.val != val:\n",
    "                pre = cur\n",
    "             \n",
    "            elif not pre:\n",
    "                head = _next\n",
    "                \n",
    "            else:\n",
    "                pre.next = _next\n",
    "                \n",
    "            cur = _next\n",
    "        return head"
   ]
  },
  {
   "cell_type": "code",
   "execution_count": null,
   "metadata": {
    "collapsed": true
   },
   "outputs": [],
   "source": []
  }
 ],
 "metadata": {
  "kernelspec": {
   "display_name": "Python 3",
   "language": "python",
   "name": "python3"
  },
  "language_info": {
   "codemirror_mode": {
    "name": "ipython",
    "version": 3
   },
   "file_extension": ".py",
   "mimetype": "text/x-python",
   "name": "python",
   "nbconvert_exporter": "python",
   "pygments_lexer": "ipython3",
   "version": "3.5.4"
  }
 },
 "nbformat": 4,
 "nbformat_minor": 2
}
