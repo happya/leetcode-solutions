{
 "cells": [
  {
   "cell_type": "markdown",
   "metadata": {},
   "source": [
    "# 143. Reorder List\n",
    "---"
   ]
  },
  {
   "cell_type": "markdown",
   "metadata": {},
   "source": [
    "Given a singly linked list L: L0→L1→…→Ln-1→Ln,\n",
    "reorder it to: L0→Ln→L1→Ln-1→L2→Ln-2→…\n",
    "\n",
    "You must do this in-place without altering the nodes' values.\n",
    "\n",
    "For example,\n",
    "```python\n",
    "Given {1,2,3,4}, reorder it to {1,4,2,3}.\n",
    "```"
   ]
  },
  {
   "cell_type": "code",
<<<<<<< HEAD
   "execution_count": 1,
   "metadata": {
    "collapsed": true
   },
   "outputs": [],
   "source": [
    "def reorderList0(head,pre_head = None):\n",
    "        \"\"\"\n",
    "        :type head: ListNode\n",
    "        :rtype: void Do not return anything, modify head in-place instead.\n",
    "        \"\"\"\n",
    "        if not head or not head.next:\n",
    "            return\n",
    "        if not head.next.next:\n",
    "            head.next.next=pre_head\n",
    "            return\n",
    "        slow = head\n",
    "        pre = ListNode(0)\n",
    "        pre.next = slow\n",
    "        fast = head.next.next\n",
    "        while fast and fast.next:\n",
    "            pre = pre.next\n",
    "            slow = slow.next\n",
    "            fast = fast.next.next\n",
    "        \n",
    "        if fast and not fast.next:\n",
    "            middle = slow.next\n",
    "            slow.next = middle.next\n",
    "            pre_head = middle\n",
    "       \n",
    "        \n",
    "        \n",
    "        tmp_tail = slow.next\n",
    "        tmp_head = slow\n",
    "        pre.next = tmp_tail.next\n",
    "        tmp_tail.next = pre_head\n",
    "        return self.reorderList(head,tmp_head)"
   ]
  },
  {
   "cell_type": "code",
   "execution_count": 2,
   "metadata": {
    "collapsed": true
   },
   "outputs": [],
   "source": [
    "def reorderList(head):\n",
    "        \"\"\"\n",
    "        :type head: ListNode\n",
    "        :rtype: void Do not return anything, modify head in-place instead.\n",
    "        \"\"\"\n",
    "        if not head or not head.next:\n",
    "            return\n",
    "        slow = head\n",
    "        fast = head.next\n",
    "        while fast and fast.next:\n",
    "            slow = slow.next\n",
    "            fast = fast.next.next\n",
    "        \n",
    "        pre2 = slow\n",
    "        head2 = slow.next\n",
    "        slow.next = None\n",
    "        while(head2.next):\n",
    "            _next = head2.next\n",
    "            head2.next = pre2\n",
    "            pre2 = head2\n",
    "            head2 = _next\n",
    "        \n",
    "        head2.next = pre2\n",
    "        head1 = head\n",
    "        while head1 and head2:\n",
    "            tmp1 = head1.next\n",
    "            tmp2 = head2.next\n",
    "            head1.next = head2\n",
    "            head2.next = tmp1\n",
    "            head2 = tmp2\n",
    "            head1 = tmp1\n",
    "        return"
   ]
  },
  {
   "cell_type": "code",
=======
>>>>>>> c5a4d5bef91900608200b3ac80e2002ca1cc6ecc
   "execution_count": null,
   "metadata": {
    "collapsed": true
   },
   "outputs": [],
   "source": []
  }
 ],
 "metadata": {
  "kernelspec": {
   "display_name": "Python 3",
   "language": "python",
   "name": "python3"
  },
  "language_info": {
   "codemirror_mode": {
    "name": "ipython",
    "version": 3
   },
   "file_extension": ".py",
   "mimetype": "text/x-python",
   "name": "python",
   "nbconvert_exporter": "python",
   "pygments_lexer": "ipython3",
   "version": "3.5.4"
  }
 },
 "nbformat": 4,
 "nbformat_minor": 2
}
