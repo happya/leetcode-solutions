{
 "cells": [
  {
   "cell_type": "markdown",
   "metadata": {},
   "source": [
    "# 413. Arithmetic Slices"
   ]
  },
  {
   "cell_type": "markdown",
   "metadata": {},
   "source": [
    "A sequence of number is called arithmetic if it consists of at least three elements and if the difference between any two consecutive elements is the same.\n",
    "\n",
    "For example, these are arithmetic sequence:\n",
    "```python\n",
    "\n",
    "1, 3, 5, 7, 9\n",
    "7, 7, 7, 7\n",
    "3, -1, -5, -9\n",
    "```\n",
    "The following sequence is not arithmetic.\n",
    "```python\n",
    "\n",
    "1, 1, 2, 5, 7\n",
    "```\n",
    "\n",
    "A zero-indexed array A consisting of N numbers is given. A slice of that array is any pair of integers (P, Q) such that 0 <= P < Q < N.\n",
    "\n",
    "A slice (P, Q) of array A is called arithmetic if the sequence:\n",
    "A[P], A[p + 1], ..., A[Q - 1], A[Q] is arithmetic. In particular, this means that P + 1 < Q.\n",
    "\n",
    "The function should return the number of arithmetic slices in the array A.\n",
    "\n",
    "\n",
    "Example:\n",
    "```python\n",
    "\n",
    "A = [1, 2, 3, 4]\n",
    "```\n",
    "\n",
    "return: 3, for 3 arithmetic slices in A: [1, 2, 3], [2, 3, 4] and [1, 2, 3, 4] itself."
   ]
  },
  {
   "cell_type": "code",
   "execution_count": 1,
   "metadata": {
    "collapsed": true
   },
   "outputs": [],
   "source": [
    "class Solution(object):\n",
    "    def numberOfArithmeticSlices(self, A):\n",
    "        \"\"\"\n",
    "        :type A: List[int]\n",
    "        :rtype: int\n",
    "        \"\"\"\n",
    "        if not A or len(A)<3:\n",
    "            return 0\n",
    "        L = len(A)\n",
    "        d = [0]*L\n",
    "        for i in range(2,L):\n",
    "            if A[i-1]-A[i-2] == A[i]-A[i-1]:\n",
    "                d[i] = 1+d[i-1]\n",
    "                \n",
    "        return sum((i) for i in d)"
   ]
  },
  {
   "cell_type": "code",
   "execution_count": null,
   "metadata": {
    "collapsed": true
   },
   "outputs": [],
   "source": []
  }
 ],
 "metadata": {
  "kernelspec": {
   "display_name": "Python 3",
   "language": "python",
   "name": "python3"
  },
  "language_info": {
   "codemirror_mode": {
    "name": "ipython",
    "version": 3
   },
   "file_extension": ".py",
   "mimetype": "text/x-python",
   "name": "python",
   "nbconvert_exporter": "python",
   "pygments_lexer": "ipython3",
   "version": "3.5.4"
  }
 },
 "nbformat": 4,
 "nbformat_minor": 2
}
