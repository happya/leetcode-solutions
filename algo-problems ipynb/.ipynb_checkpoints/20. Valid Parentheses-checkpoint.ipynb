{
 "cells": [
  {
   "cell_type": "markdown",
   "metadata": {},
   "source": [
    "# 20. Valid Parentheses\n",
    "---"
   ]
  },
  {
   "cell_type": "markdown",
   "metadata": {},
   "source": [
    "Given a string containing just the characters ```'(', ')', '{', '}', '[' and ']'```, determine if the input string is valid.\n",
    "\n",
    "The brackets must close in the correct order,``` \"()\" and \"()[]{}\" ```are all valid but ```\"(]\" and \"([)]\" ```are not."
   ]
  },
  {
   "cell_type": "code",
   "execution_count": 4,
   "metadata": {
    "collapsed": true
   },
   "outputs": [],
   "source": [
    "def isValid(s):\n",
    "        \"\"\"\n",
    "        :type s: str\n",
    "        :rtype: bool\n",
    "        \"\"\"\n",
    "        if not s:\n",
    "            return False\n",
    "        dic = {\")\":\"(\",\"]\":\"[\",\"}\":\"{\"}\n",
    "        stack = []\n",
    "        for i in s:\n",
    "            if i in dic.values():\n",
    "                stack.append(i)\n",
    "            elif i in dic.keys():\n",
    "                if not stack or dic[i]!=stack.pop():\n",
    "                    return False\n",
    "            else:\n",
    "                return False\n",
    "        return not stack"
   ]
  },
  {
   "cell_type": "code",
   "execution_count": 6,
   "metadata": {},
   "outputs": [
    {
     "name": "stdout",
     "output_type": "stream",
     "text": [
      "True True\n"
     ]
    }
   ],
   "source": [
    "print(isValid('((()))'),isValid('({[]})'))"
   ]
  },
  {
   "cell_type": "code",
   "execution_count": null,
   "metadata": {
    "collapsed": true
   },
   "outputs": [],
   "source": []
  }
 ],
 "metadata": {
  "kernelspec": {
   "display_name": "Python 3",
   "language": "python",
   "name": "python3"
  },
  "language_info": {
   "codemirror_mode": {
    "name": "ipython",
    "version": 3
   },
   "file_extension": ".py",
   "mimetype": "text/x-python",
   "name": "python",
   "nbconvert_exporter": "python",
   "pygments_lexer": "ipython3",
   "version": "3.5.4"
  }
 },
 "nbformat": 4,
 "nbformat_minor": 2
}
