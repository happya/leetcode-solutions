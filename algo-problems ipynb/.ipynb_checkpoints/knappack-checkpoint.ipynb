{
 "cells": [
  {
   "cell_type": "markdown",
   "metadata": {},
   "source": [
    "# knappack"
   ]
  },
  {
   "cell_type": "code",
   "execution_count": 5,
   "metadata": {
    "collapsed": true
   },
   "outputs": [],
   "source": [
    "n=5  \n",
    "c=10  \n",
    "w=[2,2,6,5,4]  \n",
    "v =[6,3,5,4,6]"
   ]
  },
  {
   "cell_type": "code",
   "execution_count": 9,
   "metadata": {},
   "outputs": [],
   "source": [
    "def bag(n,c,w,v):\n",
    "    d = [[0 for _ in range(c+1)] for _ in range(n+1)]\n",
    "    for i in range(1,n+1):\n",
    "        for j in range(c+1):\n",
    "            wi,vi = w[i-1],v[i-1]\n",
    "            if wi>j:\n",
    "                d[i][j] = d[i-1][j]\n",
    "            else:\n",
    "                d[i][j] = max(d[i-1][j],vi+d[i-1][j-wi])\n",
    "    return d        "
   ]
  },
  {
   "cell_type": "code",
   "execution_count": 22,
   "metadata": {},
   "outputs": [],
   "source": [
    "def show(d,c,n):\n",
    "    put = [False]*n\n",
    "    j = c\n",
    "    for i in range(1,n+1):\n",
    "        if d[i][j]>d[i-1][j]:\n",
    "            put[i-1] = True\n",
    "            j -= w[i-1]\n",
    "    return put"
   ]
  },
  {
   "cell_type": "code",
   "execution_count": 23,
   "metadata": {},
   "outputs": [
    {
     "name": "stdout",
     "output_type": "stream",
     "text": [
      "6\n",
      "9\n",
      "14\n",
      "14\n",
      "15\n",
      "[True, True, False, False, True]\n"
     ]
    }
   ],
   "source": [
    "d=bag(n,c,w,v)\n",
    "for i in range(1,n+1):\n",
    "    print(d[i][c])\n",
    "put = show(d,c,n)\n",
    "print(put)"
   ]
  },
  {
   "cell_type": "code",
   "execution_count": null,
   "metadata": {
    "collapsed": true
   },
   "outputs": [],
   "source": []
  }
 ],
 "metadata": {
  "kernelspec": {
   "display_name": "Python 3",
   "language": "python",
   "name": "python3"
  },
  "language_info": {
   "codemirror_mode": {
    "name": "ipython",
    "version": 3
   },
   "file_extension": ".py",
   "mimetype": "text/x-python",
   "name": "python",
   "nbconvert_exporter": "python",
   "pygments_lexer": "ipython3",
   "version": "3.5.4"
  }
 },
 "nbformat": 4,
 "nbformat_minor": 2
}
