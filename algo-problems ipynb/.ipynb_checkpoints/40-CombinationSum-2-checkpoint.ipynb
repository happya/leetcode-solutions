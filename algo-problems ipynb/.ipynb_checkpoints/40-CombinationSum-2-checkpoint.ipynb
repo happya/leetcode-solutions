{
 "cells": [
  {
   "cell_type": "markdown",
   "metadata": {},
   "source": [
    "# 40 Combination Sum II\n",
    "---\n",
    "Given a collection of candidate numbers (C) and a target number (T), find all unique combinations in C where the candidate numbers sums to T.\n",
    "\n",
    "Each number in C may only be used once in the combination.\n",
    "\n",
    "Note:\n",
    "All numbers (including target) will be positive integers.\n",
    "The solution set must not contain duplicate combinations."
   ]
  },
  {
   "cell_type": "markdown",
   "metadata": {},
   "source": [
    "思路：  \n",
    "运用深度优先搜索，递归查找"
   ]
  },
  {
   "cell_type": "code",
   "execution_count": null,
   "metadata": {
    "collapsed": true
   },
   "outputs": [],
   "source": [
    "class Solution(object):\n",
    "    def combinationSum2(self, candidates, target):\n",
    "        \"\"\"\n",
    "        :type candidates: List[int]\n",
    "        :type target: int\n",
    "        :rtype: List[List[int]]\n",
    "        \"\"\"\n",
    "        candidates.sort()\n",
    "        n = len(candidates)\n",
    "        res = []\n",
    "        \n",
    "        def dfs(path,start,value):\n",
    "            while start<n:\n",
    "                \n",
    "                if candidates[start]+value>target:\n",
    "                    return\n",
    "                elif candidates[start]+value==target:\n",
    "                    path += [candidates[start]]\n",
    "                    if path not in res:\n",
    "                        res.append(path)\n",
    "                    else:\n",
    "                        path.pop()\n",
    "                else:\n",
    "                    dfs(path+[candidates[start]],start+1,value+candidates[start])\n",
    "                start += 1\n",
    "            return\n",
    "        \n",
    "        dfs([],0,0)\n",
    "        return res"
   ]
  }
 ],
 "metadata": {
  "kernelspec": {
   "display_name": "Python 2",
   "language": "python",
   "name": "python2"
  },
  "language_info": {
   "codemirror_mode": {
    "name": "ipython",
    "version": 2
   },
   "file_extension": ".py",
   "mimetype": "text/x-python",
   "name": "python",
   "nbconvert_exporter": "python",
   "pygments_lexer": "ipython2",
   "version": "2.7.12"
  }
 },
 "nbformat": 4,
 "nbformat_minor": 1
}
