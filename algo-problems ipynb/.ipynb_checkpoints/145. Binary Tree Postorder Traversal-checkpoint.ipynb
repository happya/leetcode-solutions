{
 "cells": [
  {
   "cell_type": "markdown",
   "metadata": {},
   "source": [
    "# 145. Binary Tree Postorder Traversal\n",
    "---"
   ]
  },
  {
   "cell_type": "markdown",
   "metadata": {},
   "source": [
    "Given a binary tree, return the postorder traversal of its nodes' values.\n",
    "\n",
    "For example:\n",
    "```python\n",
    "Given binary tree [1,null,2,3],\n",
    "\n",
    "   1\n",
    "    \\\n",
    "     2\n",
    "    /\n",
    "   3\n",
    " \n",
    "\n",
    "return [3,2,1].\n",
    "```\n",
    "\n",
    "Note: Recursive solution is trivial, could you do it iteratively?"
   ]
  },
  {
   "cell_type": "code",
   "execution_count": 1,
   "metadata": {
    "collapsed": true
   },
   "outputs": [],
   "source": [
    "# Definition for a binary tree node.\n",
    "# class TreeNode(object):\n",
    "#     def __init__(self, x):\n",
    "#         self.val = x\n",
    "#         self.left = None\n",
    "#         self.right = None\n",
    "\n",
    "class Solution(object):\n",
    "    def postorderTraversal(self, root):\n",
    "        \"\"\"\n",
    "        :type root: TreeNode\n",
    "        :rtype: List[int]\n",
    "        \"\"\"\n",
    "        return self.morrisPost(root)\n",
    "    def morrisPost(self,root):\n",
    "        res = []\n",
    "        if not root:\n",
    "            return res\n",
    "        dummy = TreeNode(0)\n",
    "        dummy.left = root\n",
    "        cur = dummy\n",
    "        \n",
    "        \n",
    "        while cur:\n",
    "            if not cur.left:\n",
    "                cur = cur.right\n",
    "                continue\n",
    "            else:\n",
    "                p = cur.left\n",
    "                while p.right and p.right!=cur:\n",
    "                    p = p.right\n",
    "                if not p.right:\n",
    "                    p.right = cur\n",
    "                    cur = cur.left\n",
    "                else:\n",
    "                    p.right = None\n",
    "                    \n",
    "                    res+=self.outReverse(cur.left,p)\n",
    "                    \n",
    "                    cur = cur.right\n",
    "        return res\n",
    "    \n",
    "    def outReverse(self,s,t):\n",
    "\n",
    "        x = s\n",
    "        tmp = [x.val]\n",
    "        \n",
    "        while x!=t:\n",
    "            x = x.right\n",
    "            tmp.append(x.val)\n",
    "        return reversed(tmp)"
   ]
  },
  {
   "cell_type": "code",
   "execution_count": null,
   "metadata": {
    "collapsed": true
   },
   "outputs": [],
   "source": []
  }
 ],
 "metadata": {
  "kernelspec": {
   "display_name": "Python 3",
   "language": "python",
   "name": "python3"
  },
  "language_info": {
   "codemirror_mode": {
    "name": "ipython",
    "version": 3
   },
   "file_extension": ".py",
   "mimetype": "text/x-python",
   "name": "python",
   "nbconvert_exporter": "python",
   "pygments_lexer": "ipython3",
   "version": "3.5.4"
  }
 },
 "nbformat": 4,
 "nbformat_minor": 2
}
