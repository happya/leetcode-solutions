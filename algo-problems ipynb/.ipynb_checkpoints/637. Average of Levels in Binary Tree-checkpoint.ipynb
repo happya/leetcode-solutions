{
 "cells": [
  {
   "cell_type": "markdown",
   "metadata": {},
   "source": [
    "# 637. Average of Levels in Binary Tree\n",
    "---"
   ]
  },
  {
   "cell_type": "markdown",
   "metadata": {},
   "source": [
    "Given a non-empty binary tree, return the average value of the nodes on each level in the form of an array.\n",
    "Example 1:\n",
    "```python\n",
    "Input:\n",
    "    3\n",
    "   / \\\n",
    "  9  20\n",
    "    /  \\\n",
    "   15   7\n",
    "   \n",
    "Output: [3, 14.5, 11]\n",
    "Explanation:\n",
    "The average value of nodes on level 0 is 3,  on level 1 is 14.5, and on level 2 is 11. Hence return [3, 14.5, 11].\n",
    "```\n",
    "Note:\n",
    "The range of node's value is in the range of 32-bit signed integer."
   ]
  },
  {
   "cell_type": "code",
   "execution_count": 1,
   "metadata": {
    "collapsed": true
   },
   "outputs": [],
   "source": [
    "# Definition for a binary tree node.\n",
    "# class TreeNode:\n",
    "#     def __init__(self, x):\n",
    "#         self.val = x\n",
    "#         self.left = None\n",
    "#         self.right = None\n",
    "\n",
    "class Solution:\n",
    "    def averageOfLevels(self, root):\n",
    "        \"\"\"\n",
    "        :type root: TreeNode\n",
    "        :rtype: List[float]\n",
    "        \"\"\"\n",
    "        res = []\n",
    "        if not root:\n",
    "            return res\n",
    "        res.append(root.val)\n",
    "        q = [root]\n",
    "        \n",
    "        while q:\n",
    "            qroot=[]\n",
    "            val = 0\n",
    "            count = 0\n",
    "            while q:\n",
    "                node = q.pop()\n",
    "                if node.left:\n",
    "                    val += node.left.val\n",
    "                    count+=1\n",
    "                    qroot.append(node.left)\n",
    "                if node.right:\n",
    "                    qroot.append(node.right)\n",
    "                    count+=1\n",
    "                    val += node.right.val\n",
    "            if count:\n",
    "                res.append(val/count)\n",
    "            \n",
    "            q = qroot\n",
    "        return res"
   ]
  },
  {
   "cell_type": "code",
   "execution_count": null,
   "metadata": {
    "collapsed": true
   },
   "outputs": [],
   "source": []
  }
 ],
 "metadata": {
  "kernelspec": {
   "display_name": "Python 3",
   "language": "python",
   "name": "python3"
  },
  "language_info": {
   "codemirror_mode": {
    "name": "ipython",
    "version": 3
   },
   "file_extension": ".py",
   "mimetype": "text/x-python",
   "name": "python",
   "nbconvert_exporter": "python",
   "pygments_lexer": "ipython3",
   "version": "3.5.4"
  }
 },
 "nbformat": 4,
 "nbformat_minor": 2
}
