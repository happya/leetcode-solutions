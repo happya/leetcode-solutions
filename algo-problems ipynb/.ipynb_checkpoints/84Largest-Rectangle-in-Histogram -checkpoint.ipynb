{
 "cells": [
  {
   "cell_type": "markdown",
   "metadata": {},
   "source": [
    "# 84. Largest Rectangle in Histogram\n",
    "---\n",
    "Given n non-negative integers representing the histogram's bar height where the width of each bar is 1, find the area of largest rectangle in the histogram   \n",
    "<img src=\"http://www.leetcode.com/wp-content/uploads/2012/04/histogram.png\">\n",
    "Above is a histogram where width of each bar is 1, given height = <code>[2,1,5,6,2,3]</code>.\n",
    "<img src=\"http://www.leetcode.com/wp-content/uploads/2012/04/histogram_area.png\">\n",
    "The largest rectangle is shown in the shaded area, which has area = 10 unit.  \n",
    "For example,  \n",
    "Given heights = [2,1,5,6,2,3],  \n",
    "return 10.  "
   ]
  },
  {
   "cell_type": "markdown",
   "metadata": {},
   "source": [
    "思路：做这道题之前就看到过这位大神的博客，印象很深刻\n",
    "http://www.kylen314.com/archives/5761"
   ]
  },
  {
   "cell_type": "code",
   "execution_count": null,
   "metadata": {
    "collapsed": true
   },
   "outputs": [],
   "source": [
    "class Solution(object):\n",
    "    def largestRectangleArea(self, heights):\n",
    "        \"\"\"\n",
    "        :type heights: List[int]\n",
    "        :rtype: int\n",
    "        \"\"\"\n",
    "        \n",
    "        maxA = 0\n",
    "        Q = []\n",
    "        heights.append(0)\n",
    "        for i,a in enumerate(heights):\n",
    "            if (not Q) or a>=heights[Q[-1]]:\n",
    "                Q.append(i)\n",
    "            else:\n",
    "                while Q and a<heights[Q[-1]]:\n",
    "                    top = Q.pop()\n",
    "                    if not Q:\n",
    "                        j1 = -1\n",
    "                    else:\n",
    "                        j1 = Q[-1]\n",
    "                    j2 = i\n",
    "                    area = heights[top] * (j2-j1-1)\n",
    "                    #print area\n",
    "                    if area > maxA:\n",
    "                        maxA = area\n",
    "                Q.append(i)\n",
    "        return maxA"
   ]
  }
 ],
 "metadata": {
  "kernelspec": {
   "display_name": "Python 2",
   "language": "python",
   "name": "python2"
  },
  "language_info": {
   "codemirror_mode": {
    "name": "ipython",
    "version": 2
   },
   "file_extension": ".py",
   "mimetype": "text/x-python",
   "name": "python",
   "nbconvert_exporter": "python",
   "pygments_lexer": "ipython2",
   "version": "2.7.12"
  }
 },
 "nbformat": 4,
 "nbformat_minor": 1
}
