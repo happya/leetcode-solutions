{
 "cells": [
  {
   "cell_type": "markdown",
   "metadata": {},
   "source": [
    "# 684. Redundant Connection\n",
    "---"
   ]
  },
  {
   "cell_type": "markdown",
   "metadata": {},
   "source": [
    "In this problem, a tree is an undirected graph that is connected and has no cycles.\n",
    "\n",
    "The given input is a graph that started as a tree with N nodes (with distinct values 1, 2, ..., N), with one additional edge added. The added edge has two different vertices chosen from 1 to N, and was not an edge that already existed.\n",
    "\n",
    "The resulting graph is given as a 2D-array of edges. Each element of edges is a pair [u, v] with u < v, that represents an undirected edge connecting nodes u and v.\n",
    "\n",
    "Return an edge that can be removed so that the resulting graph is a tree of N nodes. If there are multiple answers, return the answer that occurs last in the given 2D-array. The answer edge [u, v] should be in the same format, with u < v.\n",
    "\n",
    "Example 1:\n",
    "```python\n",
    "Input: [[1,2], [1,3], [2,3]]\n",
    "Output: [2,3]\n",
    "Explanation: The given undirected graph will be like this:\n",
    "  1\n",
    " / \\\n",
    "2 - 3\n",
    "```\n",
    "Example 2:\n",
    "```python\n",
    "Input: [[1,2], [2,3], [3,4], [1,4], [1,5]]\n",
    "Output: [1,4]\n",
    "Explanation: The given undirected graph will be like this:\n",
    "5 - 1 - 2\n",
    "    |   |\n",
    "    4 - 3\n",
    "```\n",
    "Note:\n",
    "- The size of the input 2D-array will be between 3 and 1000.\n",
    "- Every integer represented in the 2D-array will be between 1 and N, where N is the size of the input array.\n",
    "\n",
    "Update (2017-09-26):\n",
    "We have overhauled the problem description + test cases and specified clearly the graph is an undirected graph. For the directed graph follow up please see Redundant Connection II). We apologize for any inconvenience caused."
   ]
  },
  {
   "cell_type": "code",
   "execution_count": null,
   "metadata": {
    "collapsed": true
   },
   "outputs": [],
   "source": [
    "class Solution:\n",
    "    def findRedundantConnection(self, edges):\n",
    "        \"\"\"\n",
    "        :type edges: List[List[int]]\n",
    "        :rtype: List[int]\n",
    "        \"\"\"\n",
    "        if not edges:\n",
    "            return []\n",
    "        N = len(edges)\n",
    "        \n",
    "        parent = [_ for _ in range(N+1)]\n",
    "        rank = [0 for _ in range(N+1)]\n",
    "        def find(x):\n",
    "            if parent[x]!=x:\n",
    "                parent[x] = find(parent[x])\n",
    "            return parent[x]\n",
    "        \n",
    "        def union(x,y):\n",
    "            xp,yp = find(x),find(y)\n",
    "            if xp==yp:\n",
    "                return False\n",
    "            elif rank[xp]>rank[yp]:\n",
    "                parent[yp]=xp\n",
    "            elif rank[xp]<rank[yp]:\n",
    "                parent[xp]=yp\n",
    "            else:\n",
    "                parent[yp]=xp\n",
    "                rank[xp]+=1\n",
    "            return True\n",
    "        \n",
    "        for edge in edges:\n",
    "            \n",
    "            [u,v]=edge\n",
    "            if not union(u,v):\n",
    "                return edge"
   ]
  }
 ],
 "metadata": {
  "kernelspec": {
   "display_name": "Python 3",
   "language": "python",
   "name": "python3"
  },
  "language_info": {
   "codemirror_mode": {
    "name": "ipython",
    "version": 3
   },
   "file_extension": ".py",
   "mimetype": "text/x-python",
   "name": "python",
   "nbconvert_exporter": "python",
   "pygments_lexer": "ipython3",
   "version": "3.5.4"
  }
 },
 "nbformat": 4,
 "nbformat_minor": 2
}
