{
 "cells": [
  {
   "cell_type": "markdown",
   "metadata": {},
   "source": [
    "# 572. Subtree of Another Tree\n",
    "---"
   ]
  },
  {
   "cell_type": "markdown",
   "metadata": {},
   "source": [
    "Given two non-empty binary trees s and t, check whether tree t has exactly the same structure and node values with a subtree of s. A subtree of s is a tree consists of a node in s and all of this node's descendants. The tree s could also be considered as a subtree of itself.\n",
    "\n",
    "Example 1:\n",
    "\n",
    "Given tree s:\n",
    "```python\n",
    "\n",
    "     3\n",
    "    / \\\n",
    "   4   5\n",
    "  / \\\n",
    " 1   2\n",
    "```\n",
    "\n",
    "Given tree t:\n",
    "```python\n",
    "   4 \n",
    "  / \\\n",
    " 1   2\n",
    " ```\n",
    "Return true, because t has the same structure and node values with a subtree of s.\n",
    "Example 2:\n",
    "Given tree s:\n",
    "```python\n",
    "\n",
    "     3\n",
    "    / \\\n",
    "   4   5\n",
    "  / \\\n",
    " 1   2\n",
    "    /\n",
    "   0\n",
    " ```\n",
    "Given tree t:\n",
    "```python\n",
    "   4\n",
    "  / \\\n",
    " 1   2\n",
    " ```\n",
    "Return false.\n"
   ]
  },
  {
   "cell_type": "code",
   "execution_count": 1,
   "metadata": {
    "collapsed": true
   },
   "outputs": [],
   "source": [
    "def isSametree(s,t):\n",
    "    if not s and not t:\n",
    "        return True\n",
    "    if not s or not t:\n",
    "        return False\n",
    "    if s.val != t.val:\n",
    "        return False\n",
    "\n",
    "    return isSametree(s.left,t.left) and class Solution:\n",
    "                \n",
    "    def isSametree(self,s,t):\n",
    "        if not s and not t:\n",
    "            return True\n",
    "        if not s or not t:\n",
    "            return False\n",
    "        if s.val != t.val:\n",
    "            return False\n",
    "        \n",
    "        return self.isSametree(s.left,t.left) and self.isSametree(s.right,t.right)\n",
    "    \n",
    "    def isSubtree(self, s, t):\n",
    "        \"\"\"\n",
    "        :type s: TreeNode\n",
    "        :type t: TreeNode\n",
    "        :rtype: bool\n",
    "        \"\"\"\n",
    "        if not s:\n",
    "            return False\n",
    "        if self.isSametree(s,t):\n",
    "            return True\n",
    "        return self.isSubtree(s.left,t) or self.isSubtree(s.right,t)\n",
    "isSametree(s.right,t.right)\n",
    "\n",
    "def isSubtree(self, s, t):\n",
    "    \"\"\"\n",
    "    :type s: TreeNode\n",
    "    :type t: TreeNode\n",
    "    :rtype: bool\n",
    "    \"\"\"\n",
    "    if not s:\n",
    "        return False\n",
    "    if self.isSametree(s,t):\n",
    "        return True\n",
    "    return self.isSubtree(s.left,t) or self.isSubtree(s.right,t)\n"
   ]
  },
  {
   "cell_type": "code",
   "execution_count": null,
   "metadata": {
    "collapsed": true
   },
   "outputs": [],
   "source": []
  }
 ],
 "metadata": {
  "kernelspec": {
   "display_name": "Python 3",
   "language": "python",
   "name": "python3"
  },
  "language_info": {
   "codemirror_mode": {
    "name": "ipython",
    "version": 3
   },
   "file_extension": ".py",
   "mimetype": "text/x-python",
   "name": "python",
   "nbconvert_exporter": "python",
   "pygments_lexer": "ipython3",
   "version": "3.5.4"
  }
 },
 "nbformat": 4,
 "nbformat_minor": 2
}
