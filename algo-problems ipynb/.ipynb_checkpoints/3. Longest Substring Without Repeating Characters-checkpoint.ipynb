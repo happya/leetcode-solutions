{
 "cells": [
  {
   "cell_type": "markdown",
   "metadata": {},
   "source": [
    "# 3. Longest Substring Without Repeating Characters\n",
    "---\n",
    "Given a string, find the length of the longest substring without repeating characters.\n",
    "\n",
    "Examples:\n",
    "\n",
    "Given \"abcabcbb\", the answer is \"abc\", which the length is 3.\n",
    "\n",
    "Given \"bbbbb\", the answer is \"b\", with the length of 1.\n",
    "\n",
    "Given \"pwwkew\", the answer is \"wke\", with the length of 3. Note that the answer must be a substring, \"pwke\" is a subsequence and not a substring."
   ]
  },
  {
   "cell_type": "code",
   "execution_count": 9,
   "metadata": {
    "collapsed": false
   },
   "outputs": [],
   "source": [
    "# 82 ms 97%\n",
    "# 字符串里每个字符最多只用扫描一次\n",
    "class Solution(object):\n",
    "    def lengthOfLongestSubstring(self, s):\n",
    "        \"\"\"\n",
    "        :type s: str\n",
    "        :rtype: int\n",
    "        \"\"\"\n",
    "        # record用来顺序存储目前遇到的没有重复字符的最长子串\n",
    "        # c: 对不重复子串计数\n",
    "        # cmax: 更新子串的最大长度\n",
    "        record = ''\n",
    "        c = 0\n",
    "        cmax = 0\n",
    "        for i, r in enumerate(s):\n",
    "            # 如果新字符与record里的记录都不一样，将其加入record后,并且计数加1\n",
    "            if r not in record:\n",
    "                record += r\n",
    "                c += 1\n",
    "            # 如果新字符已经被记录在record里：\n",
    "            # 更新当前最大子串长度cmax\n",
    "            # 关键： 如果这个字符在record里的下标为i，将i及之前的字符(下标0到i)的字符全部删除\n",
    "            #        因为要开始进行新的记录了\n",
    "            # 此时，计数值c也要更新为当前新的record里是字符串长度\n",
    "            else:\n",
    "                cmax = c if c>cmax else cmax\n",
    "                p = record.find(r)\n",
    "                record = record[p+1:]+r\n",
    "                c -= p\n",
    "                if c+len(s)-i-1<cmax:break\n",
    "        return max(cmax,c)"
   ]
  },
  {
   "cell_type": "code",
   "execution_count": null,
   "metadata": {
    "collapsed": true
   },
   "outputs": [],
   "source": []
  }
 ],
 "metadata": {
  "kernelspec": {
   "display_name": "Python 2",
   "language": "python",
   "name": "python2"
  },
  "language_info": {
   "codemirror_mode": {
    "name": "ipython",
    "version": 2
   },
   "file_extension": ".py",
   "mimetype": "text/x-python",
   "name": "python",
   "nbconvert_exporter": "python",
   "pygments_lexer": "ipython2",
   "version": "2.7.12"
  }
 },
 "nbformat": 4,
 "nbformat_minor": 1
}
