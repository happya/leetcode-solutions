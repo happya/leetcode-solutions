{
 "cells": [
  {
   "cell_type": "markdown",
   "metadata": {},
   "source": [
    "# 113. Path Sum II\n",
    "---"
   ]
  },
  {
   "cell_type": "markdown",
   "metadata": {},
   "source": [
    "Given a binary tree and a sum, find all root-to-leaf paths where each path's sum equals the given sum.\n",
    "\n",
    "For example:\n",
    "```python\n",
    "Given the below binary tree and sum = 22,\n",
    "              5\n",
    "             / \\\n",
    "            4   8\n",
    "           /   / \\\n",
    "          11  13  4\n",
    "         /  \\    / \\\n",
    "        7    2  5   1\n",
    "```\n",
    "return\n",
    "```python\n",
    "[\n",
    "   [5,4,11,2],\n",
    "   [5,8,4,5]\n",
    "]\n",
    "```\n"
   ]
  },
  {
   "cell_type": "markdown",
   "metadata": {},
   "source": [
    "## 方法一\n",
    "---\n",
    "> - 采用深搜(DFS)。\n",
    "\n",
    "> - 深搜的算法不需要返回任何值，只需要对全局变量res，即返回的数组做修改。"
   ]
  },
  {
   "cell_type": "code",
   "execution_count": 3,
   "metadata": {
    "collapsed": true
   },
   "outputs": [],
   "source": [
    "# Definition for a binary tree node.\n",
    "# class TreeNode:\n",
    "#     def __init__(self, x):\n",
    "#         self.val = x\n",
    "#         self.left = None\n",
    "#         self.right = None\n",
    "\n",
    "class Solution:\n",
    "    def pathSum1(self, root, sum):\n",
    "        \"\"\"\n",
    "        :type root: TreeNode\n",
    "        :type sum: int\n",
    "        :rtype: List[List[int]]\n",
    "        \"\"\"\n",
    "        if not root:\n",
    "            return []\n",
    "        res = []\n",
    "        self.dfs(root,sum,[],res)\n",
    "        return res\n",
    "    \n",
    "    def dfs(self,root,sum,path,res):\n",
    "        if root:\n",
    "            if root.val==sum and not root.left and not root.right:\n",
    "                res.append(path+[root.val])\n",
    "            self.dfs(root.left,sum-root.val,path+[root.val],res)\n",
    "            self.dfs(root.right,sum-root.val,path+[root.val],res)"
   ]
  },
  {
   "cell_type": "markdown",
   "metadata": {},
   "source": [
    "## 方法二\n",
    "---\n",
    "\n",
    "> - 依旧采用深搜，但不递归，而是运用堆栈保留已访问的节点信息"
   ]
  },
  {
   "cell_type": "code",
   "execution_count": 7,
   "metadata": {
    "collapsed": true
   },
   "outputs": [],
   "source": [
    "# Definition for a binary tree node.\n",
    "# class TreeNode:\n",
    "#     def __init__(self, x):\n",
    "#         self.val = x\n",
    "#         self.left = None\n",
    "#         self.right = None\n",
    "\n",
    "class Solution:\n",
    "    def pathSum2(self, root, sum):\n",
    "        \"\"\"\n",
    "        :type root: TreeNode\n",
    "        :type sum: int\n",
    "        :rtype: List[List[int]]\n",
    "        \"\"\"\n",
    "        if not root:\n",
    "            return []\n",
    "        res = []\n",
    "        stack = [(root,sum-root.val,[root.val])]\n",
    "        while stack:\n",
    "            cur, cur_sum,cur_path = stack.pop()\n",
    "            if not cur.left and not cur.right and cur_sum==0:\n",
    "                res.append(cur_path)\n",
    "            if cur.left:\n",
    "                stack.append((cur.left,cur_sum-cur.left.val,cur_path+[cur.left.val]))\n",
    "            if cur.right:\n",
    "                stack.append((cur.right,cur_sum-cur.right.val,cur_path+[cur.right.val]))\n",
    "        return res\n",
    "            "
   ]
  },
  {
   "cell_type": "code",
   "execution_count": 8,
   "metadata": {},
   "outputs": [],
   "source": [
    "# Definition for a binary tree node.\n",
    "# class TreeNode:\n",
    "#     def __init__(self, x):\n",
    "#         self.val = x\n",
    "#         self.left = None\n",
    "#         self.right = None\n",
    "\n",
    "class Solution:\n",
    "    def pathSum3(self, root, s):\n",
    "        \"\"\"\n",
    "        :type root: TreeNode\n",
    "        :type sum: int\n",
    "        :rtype: List[List[int]]\n",
    "        \"\"\"\n",
    "        if not root:\n",
    "            return []\n",
    "        res = []\n",
    "        stack = [(root,[root.val])]\n",
    "        while stack:\n",
    "            cur, cur_path = stack.pop()\n",
    "            if not cur.left and not cur.right and sum(cur_path)==s:\n",
    "                res.append(cur_path)\n",
    "            if cur.left:\n",
    "                stack.append((cur.left,cur_path+[cur.left.val]))\n",
    "            if cur.right:\n",
    "                stack.append((cur.right,cur_path+[cur.right.val]))\n",
    "        return res"
   ]
  },
  {
   "cell_type": "code",
   "execution_count": 9,
   "metadata": {
    "collapsed": true
   },
   "outputs": [],
   "source": [
    "class Solution:\n",
    "    def pathSum3(self, root, s):\n",
    "        \"\"\"\n",
    "        :type root: TreeNode\n",
    "        :type sum: int\n",
    "        :rtype: List[List[int]]\n",
    "        \"\"\"\n",
    "        if not root:\n",
    "            return []\n",
    "        res = []\n",
    "        stack = [(root,root.val,[root.val])]\n",
    "        while stack:\n",
    "            cur, cur_sum,cur_path = stack.pop()\n",
    "            if not cur.left and not cur.right and cur_sum==s:\n",
    "                res.append(cur_path)\n",
    "            if cur.left:\n",
    "                stack.append((cur.left,cur_sum+cur.left.val,cur_path+[cur.left.val]))\n",
    "            if cur.right:\n",
    "                stack.append((cur.right,cur_sum+cur.right.val,cur_path+[cur.right.val]))\n",
    "        return res\n",
    "            "
   ]
  },
  {
   "cell_type": "code",
   "execution_count": null,
   "metadata": {
    "collapsed": true
   },
   "outputs": [],
   "source": []
  }
 ],
 "metadata": {
  "kernelspec": {
   "display_name": "Python 3",
   "language": "python",
   "name": "python3"
  },
  "language_info": {
   "codemirror_mode": {
    "name": "ipython",
    "version": 3
   },
   "file_extension": ".py",
   "mimetype": "text/x-python",
   "name": "python",
   "nbconvert_exporter": "python",
   "pygments_lexer": "ipython3",
   "version": "3.5.4"
  }
 },
 "nbformat": 4,
 "nbformat_minor": 2
}
