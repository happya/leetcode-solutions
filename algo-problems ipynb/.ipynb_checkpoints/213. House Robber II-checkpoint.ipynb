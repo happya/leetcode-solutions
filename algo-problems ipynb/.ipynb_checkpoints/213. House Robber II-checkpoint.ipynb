{
 "cells": [
  {
   "cell_type": "markdown",
   "metadata": {},
   "source": [
    "# 213. House Robber II"
   ]
  },
  {
   "cell_type": "markdown",
   "metadata": {},
   "source": [
    "Note: This is an extension of House Robber.\n",
    "\n",
    "After robbing those houses on that street, the thief has found himself a new place for his thievery so that he will not get too much attention. This time, all houses at this place are arranged in a circle. That means the first house is the neighbor of the last one. Meanwhile, the security system for these houses remain the same as for those in the previous street.\n",
    "\n",
    "Given a list of non-negative integers representing the amount of money of each house, determine the maximum amount of money you can rob tonight without alerting the police."
   ]
  },
  {
   "cell_type": "code",
   "execution_count": 1,
   "metadata": {
    "collapsed": true
   },
   "outputs": [],
   "source": [
    "class Solution(object):\n",
    "    def rob(self, nums):\n",
    "        \"\"\"\n",
    "        :type nums: List[int]\n",
    "        :rtype: int\n",
    "        \"\"\"\n",
    "        if not nums:\n",
    "            return 0\n",
    "        l = len(nums)\n",
    "        if l<4:\n",
    "            return max(nums)\n",
    "        mpre,mcur = nums[0], max(nums[0:2])\n",
    "        npre,ncur = nums[1],max(nums[1:3])\n",
    "        for i in range(2,l-1):\n",
    "\n",
    "            if mpre+nums[i]> mcur:\n",
    "                mpre,mcur = mcur,mpre+nums[i]\n",
    "            else:\n",
    "                mpre = mcur\n",
    "            if npre+nums[i+1]> ncur:\n",
    "                npre,ncur = ncur,npre+nums[i+1]\n",
    "            else:\n",
    "                npre = ncur\n",
    "        return max(mcur,ncur)"
   ]
  },
  {
   "cell_type": "code",
   "execution_count": null,
   "metadata": {
    "collapsed": true
   },
   "outputs": [],
   "source": []
  }
 ],
 "metadata": {
  "kernelspec": {
   "display_name": "Python 3",
   "language": "python",
   "name": "python3"
  },
  "language_info": {
   "codemirror_mode": {
    "name": "ipython",
    "version": 3
   },
   "file_extension": ".py",
   "mimetype": "text/x-python",
   "name": "python",
   "nbconvert_exporter": "python",
   "pygments_lexer": "ipython3",
   "version": "3.5.4"
  }
 },
 "nbformat": 4,
 "nbformat_minor": 2
}
