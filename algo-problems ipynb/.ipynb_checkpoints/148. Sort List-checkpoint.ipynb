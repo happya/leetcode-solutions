{
 "cells": [
  {
   "cell_type": "markdown",
   "metadata": {},
   "source": [
    "# 148. Sort List\n",
    "---"
   ]
  },
  {
   "cell_type": "markdown",
   "metadata": {},
   "source": [
    "Sort a linked list in $O(n log n)$ time using constant space complexity."
   ]
  },
  {
   "cell_type": "code",
   "execution_count": 1,
   "metadata": {
    "collapsed": true
   },
   "outputs": [],
   "source": [
    "def sortList0(head,pivot=None,tail=None):\n",
    "        \"\"\"\n",
    "        :type head: ListNode\n",
    "        :rtype: ListNode\n",
    "        \"\"\"\n",
    "        if not head:\n",
    "            return head\n",
    "        \n",
    "        \n",
    "        \n",
    "        \n",
    "        if head==tail:\n",
    "            return head\n",
    "        \n",
    "        if head.next==tail:\n",
    "            return head\n",
    "        if pivot:\n",
    "            pre = pivot\n",
    "        else:\n",
    "            pre = ListNode(0)\n",
    "        pre.next = head\n",
    "        pivot = head\n",
    "        h1 = head\n",
    "        p1 = head.next\n",
    "        \n",
    "        while p1 and p1!=tail:\n",
    "            \n",
    "            if p1.val<pivot.val:\n",
    "                tmp = pre.next\n",
    "                _next = p1.next\n",
    "                \n",
    "                pre.next = p1\n",
    "                p1.next = tmp\n",
    "                \n",
    "                h1.next = _next\n",
    "                \n",
    "                \n",
    "                p1 = _next\n",
    "                \n",
    "            else:\n",
    "                h1 = p1\n",
    "                p1 = p1.next\n",
    "                \n",
    "           \n",
    "        \n",
    "        if pivot.next!=tail:\n",
    "            sortList(pivot.next,pivot,tail)\n",
    "        \n",
    "        sortList(pre.next,pre,pivot)\n",
    "        return pre.next"
   ]
  },
  {
   "cell_type": "code",
   "execution_count": 3,
   "metadata": {},
   "outputs": [],
   "source": [
    "def sortList(head):\n",
    "        \"\"\"\n",
    "        :type head: ListNode\n",
    "        :rtype: ListNode\n",
    "        \"\"\"\n",
    "        if not head or not head.next:\n",
    "            return head\n",
    "        slow,fast =head,head.next\n",
    "        \n",
    "        while fast and fast.next:\n",
    "            \n",
    "            slow = slow.next\n",
    "            fast = fast.next.next\n",
    "            \n",
    "        h2 = slow.next\n",
    "        slow.next = None\n",
    "        l1 = sortList(head)\n",
    "        l2 = sortList(h2)\n",
    "        \n",
    "        return merge(l1,l2)\n",
    "        \n",
    "        \n",
    "def merge(l1,l2):\n",
    "\n",
    "\n",
    "\n",
    "    dummy = pre = ListNode(0)\n",
    "    while l1 and l2:\n",
    "        if l1.val<l2.val:\n",
    "            pre.next = l1\n",
    "            l1 = l1.next\n",
    "\n",
    "        else:\n",
    "            pre.next = l2\n",
    "            l2 = l2.next\n",
    "        pre = pre.next\n",
    "    if l1:\n",
    "        pre.next = l1\n",
    "    if l2:\n",
    "        pre.next = l2\n",
    "\n",
    "    return dummy.next\n",
    "        "
   ]
  },
  {
   "cell_type": "code",
   "execution_count": null,
   "metadata": {
    "collapsed": true
   },
   "outputs": [],
   "source": []
  }
 ],
 "metadata": {
  "kernelspec": {
   "display_name": "Python 3",
   "language": "python",
   "name": "python3"
  },
  "language_info": {
   "codemirror_mode": {
    "name": "ipython",
    "version": 3
   },
   "file_extension": ".py",
   "mimetype": "text/x-python",
   "name": "python",
   "nbconvert_exporter": "python",
   "pygments_lexer": "ipython3",
   "version": "3.5.4"
  }
 },
 "nbformat": 4,
 "nbformat_minor": 2
}
