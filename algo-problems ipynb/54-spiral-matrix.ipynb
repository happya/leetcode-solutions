{
 "cells": [
  {
   "cell_type": "markdown",
   "metadata": {},
   "source": [
    "# 54.Spiral matrix\n",
    "---\n",
    "Given a matrix of m x n elements (m rows, n columns), return all elements of the matrix in spiral order.\n",
    "\n",
    "For example,\n",
    "Given the following matrix:\n",
    "<pre\n",
    "[\n",
    " [ 1, 2, 3 ],\n",
    " [ 4, 5, 6 ],\n",
    " [ 7, 8, 9 ]\n",
    "]\n",
    "/pre>\n",
    "You should return [1,2,3,6,9,8,7,4,5]."
   ]
  },
  {
   "cell_type": "code",
   "execution_count": 25,
   "metadata": {
    "collapsed": false
   },
   "outputs": [],
   "source": [
    "class Solution(object):\n",
    "    def spiralOrder(self, matrix):\n",
    "        \"\"\"\n",
    "        :type matrix: List[List[int]]\n",
    "        :rtype: List[int]\n",
    "        \"\"\"\n",
    "        if not matrix or not matrix[0]:return []\n",
    "        row1=0\n",
    "        col1=0\n",
    "        row2=len(matrix)-1\n",
    "        col2=len(matrix[0])-1\n",
    "        res = []\n",
    "        def add_col(m,start,end,col):\n",
    "            if start<=end:\n",
    "                for i in range(start,end+1):\n",
    "                    res.append(m[i][col])\n",
    "            elif start>end:\n",
    "                for i in range(start,end-1,-1):\n",
    "                    res.append(m[i][col])\n",
    "                \n",
    "        while row1<row2 and col1<col2:\n",
    "            res.extend(matrix[row1][col1:col2+1])\n",
    "           \n",
    "            row1+=1\n",
    "            add_col(matrix,row1,row2,col2)\n",
    "            \n",
    "            col2-=1\n",
    "            res.extend(matrix[row2][-(col1+2):-(col2+3):-1])\n",
    "            \n",
    "            row2-=1\n",
    "            if row1>row2:break\n",
    "            add_col(matrix,row2,row1,col1)\n",
    "            col1+=1\n",
    "        if row1==row2 and col1<=col2:\n",
    "            res.extend(matrix[row1][col1:col2+1])\n",
    "            return res\n",
    "        if col1==col2 and row1<=row2:\n",
    "            add_col(matrix,row1,row2,col1)\n",
    "            return res\n",
    "        return res"
   ]
  },
  {
   "cell_type": "code",
   "execution_count": null,
   "metadata": {
    "collapsed": true
   },
   "outputs": [],
   "source": []
  }
 ],
 "metadata": {
  "kernelspec": {
   "display_name": "Python 2",
   "language": "python",
   "name": "python2"
  },
  "language_info": {
   "codemirror_mode": {
    "name": "ipython",
    "version": 2
   },
   "file_extension": ".py",
   "mimetype": "text/x-python",
   "name": "python",
   "nbconvert_exporter": "python",
   "pygments_lexer": "ipython2",
   "version": "2.7.12"
  }
 },
 "nbformat": 4,
 "nbformat_minor": 1
}
