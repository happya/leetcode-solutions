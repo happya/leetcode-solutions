{
 "cells": [
  {
   "cell_type": "markdown",
   "metadata": {},
   "source": [
    "# 600. Non-negative Integers without Consecutive Ones"
   ]
  },
  {
   "cell_type": "markdown",
   "metadata": {},
   "source": [
    "Given a positive integer n, find the number of non-negative integers less than or equal to n, whose binary representations do NOT contain consecutive ones.\n",
    "```python\n",
    "Example 1:\n",
    "Input: 5\n",
    "Output: 5\n",
    "Explanation: \n",
    "Here are the non-negative integers <= 5 with their corresponding binary representations:\n",
    "0 : 0\n",
    "1 : 1\n",
    "2 : 10\n",
    "3 : 11\n",
    "4 : 100\n",
    "5 : 101\n",
    "Among them, only integer 3 disobeys the rule (two consecutive ones) and the other 5 satisfy the rule. \n",
    "Note: 1 <= n <= 10^9\n",
    "```"
   ]
  },
  {
   "cell_type": "code",
   "execution_count": 1,
   "metadata": {
    "collapsed": true
   },
   "outputs": [],
   "source": [
    "class Solution:\n",
    "    def findIntegers(self, num):\n",
    "        \"\"\"\n",
    "        :type num: int\n",
    "        :rtype: int\n",
    "        \"\"\"\n",
    "        if num<3:\n",
    "            return num+1\n",
    "        if num==3:\n",
    "            return num\n",
    "        import math\n",
    "        bits = int(math.log(num,2))\n",
    "        f = [0]*(bits+1)\n",
    "        f[0],f[1],f[2] =2,3,4\n",
    "        for i in range(3,bits+1):\n",
    "            f[i] = f[i-1]+f[i-2]-1\n",
    "\n",
    "        g = [0]*(bits+1)\n",
    "        n = num\n",
    "        b = 0\n",
    "        res = [0]*(bits+1)\n",
    "        while n: \n",
    "            cur = n%2\n",
    "            g[b] = cur\n",
    "            if cur:\n",
    "                if not b:\n",
    "                    res[b] = f[b]\n",
    "                elif not res[b-1]:\n",
    "                    res[b] = f[b]+res[b-1]\n",
    "                    \n",
    "                elif not g[b-1]:\n",
    "                    res[b] = f[b]+res[b-1]-1\n",
    "                else:\n",
    "                    res[b] = f[b]+f[b-1]-2\n",
    "                                    \n",
    "            else:\n",
    "                res[b] = res[b-1]\n",
    "            n = int(n/2)\n",
    "            b = b+1\n",
    "        #print(g,f,res)\n",
    "        return res[-1]"
   ]
  },
  {
   "cell_type": "code",
   "execution_count": 2,
   "metadata": {
    "collapsed": true
   },
   "outputs": [],
   "source": [
    "class Solution:\n",
    "    def findIntegers(self, num):\n",
    "        \"\"\"\n",
    "        :type num: int\n",
    "        :rtype: int\n",
    "        \"\"\"\n",
    "        if num<3:\n",
    "            return num+1\n",
    "        if num==3:\n",
    "            return num\n",
    "        import math\n",
    "        bits = int(math.log(num,2))\n",
    "        f = [0]*(bits+1)\n",
    "        f[0],f[1],f[2] =2,3,4\n",
    "        for i in range(3,bits+1):\n",
    "            f[i] = f[i-1]+f[i-2]-1\n",
    "\n",
    "        res = 0\n",
    "        pre = 0\n",
    "        flag = False\n",
    "        for i in range(bits+1):\n",
    "            if num&(1<<i):\n",
    "                \n",
    "                if pre:\n",
    "                    res = f[i]+f[i-1]-2\n",
    "\n",
    "                elif flag:\n",
    "                    res = f[i]+res-1\n",
    "                else:\n",
    "                    res = f[i]+res\n",
    "                    flag = True\n",
    "            pre = num&(1<<i)\n",
    "            #print(pre)\n",
    "        return res\n",
    "        "
   ]
  },
  {
   "cell_type": "code",
   "execution_count": 1,
   "metadata": {
    "collapsed": true
   },
   "outputs": [],
   "source": [
    "class Solution(object):\n",
    "    def findIntegers(self, num):\n",
    "        \"\"\"\n",
    "        :type num: int\n",
    "        :rtype: int\n",
    "        \"\"\"\n",
    "        if not num:\n",
    "            return 1\n",
    "        if num<3:\n",
    "            return num+1\n",
    "\n",
    "        f = [0]*32\n",
    "        f[0],f[1] = 2,3\n",
    "        for i in range(2,32):\n",
    "            f[i] = f[i-1]+f[i-2]-1\n",
    "            \n",
    "        res = 0\n",
    "        i = 0\n",
    "        pre = 0\n",
    "        flag = False\n",
    "        while num>=(1<<i):\n",
    "            if num&(1<<i):\n",
    "                if pre:\n",
    "                    res = f[i]+f[i-1]-2\n",
    "                elif res>0:\n",
    "                    res += (f[i]-1)\n",
    "                else:\n",
    "                    res += f[i]\n",
    "            \n",
    "            pre = num&(1<<i)\n",
    "            i+=1\n",
    "        return res"
   ]
  },
  {
   "cell_type": "code",
   "execution_count": null,
   "metadata": {
    "collapsed": true
   },
   "outputs": [],
   "source": []
  }
 ],
 "metadata": {
  "kernelspec": {
   "display_name": "Python 3",
   "language": "python",
   "name": "python3"
  },
  "language_info": {
   "codemirror_mode": {
    "name": "ipython",
    "version": 3
   },
   "file_extension": ".py",
   "mimetype": "text/x-python",
   "name": "python",
   "nbconvert_exporter": "python",
   "pygments_lexer": "ipython3",
   "version": "3.5.4"
  }
 },
 "nbformat": 4,
 "nbformat_minor": 2
}
