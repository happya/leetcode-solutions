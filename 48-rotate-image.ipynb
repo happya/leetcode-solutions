{
 "cells": [
  {
   "cell_type": "markdown",
   "metadata": {},
   "source": [
    "# 48. Rotate Image\n",
    "---\n",
    "> You are given an n x n 2D matrix representing an image.\n",
    "\n",
    "> Rotate the image by 90 degrees (clockwise).\n",
    "\n",
    "> Follow up:\n",
    "> Could you do this in-place?"
   ]
  },
  {
   "cell_type": "markdown",
   "metadata": {},
   "source": [
    "思路： 观察问题，发现rotate后，每个点的新值与旧值有一定的对应关系，相当于坐标系变换，可以直接in-place解决"
   ]
  },
  {
   "cell_type": "code",
   "execution_count": 11,
   "metadata": {
    "collapsed": true
   },
   "outputs": [],
   "source": [
    " def rotate(matrix):\n",
    "      \n",
    "        n = len(matrix)\n",
    "        a = (n+1)/2\n",
    "        for i in range(a):\n",
    "            for j in range(i,n-1-i):\n",
    "                matrix[i][j], matrix[j][n-1-i],matrix[n-1-i][n-1-j],matrix[n-1-j][i]= matrix[n-1-j][i], matrix[i][j], matrix[j][n-1-i],matrix[n-1-i][n-1-j]"
   ]
  },
  {
   "cell_type": "code",
   "execution_count": 36,
   "metadata": {
    "collapsed": false
   },
   "outputs": [
    {
     "name": "stdout",
     "output_type": "stream",
     "text": [
      "time consuming:  0.0689403013849 ms\n"
     ]
    }
   ],
   "source": [
    "## 测试\n",
    "## 38ms pass\n",
    "from numpy import random\n",
    "from timeit import Timer\n",
    "m = random.random(size = (10,10))\n",
    "m1=[]\n",
    "m1[:]=zip(*m[::-1])\n",
    "rotate(m)\n",
    "t= Timer('rotate(m)','from __main__ import rotate,m')\n",
    "print \"time consuming: \",  t.timeit(number=1000), 'ms'\n",
    "#print m==m1"
   ]
  },
  {
   "cell_type": "code",
   "execution_count": 48,
   "metadata": {
    "collapsed": true
   },
   "outputs": [],
   "source": [
    "def rotate_rec(matrix):\n",
    "    n = len(matrix)\n",
    "    if n<=1:return\n",
    "    for j in range((n+1)/2):\n",
    "        matrix[0][j], matrix[j][n-1],matrix[n-1][n-1-j],matrix[n-1-j][0]= matrix[n-1-j][0], matrix[0][j], matrix[j][n-1],matrix[n-1][n-1-j]\n",
    "    rotate_rec(matrix[1:-1][1:-1])"
   ]
  },
  {
   "cell_type": "code",
   "execution_count": 82,
   "metadata": {
    "collapsed": false
   },
   "outputs": [
    {
     "name": "stdout",
     "output_type": "stream",
     "text": [
      "(10, 10)\n",
      "(6, 10)\n"
     ]
    }
   ],
   "source": [
    "import numpy as np\n",
    "print m.shape\n",
    "mmat = np.mat(m)\n",
    "print m[1:-1][1:-1].shape"
   ]
  },
  {
   "cell_type": "code",
   "execution_count": null,
   "metadata": {
    "collapsed": true
   },
   "outputs": [],
   "source": []
  }
 ],
 "metadata": {
  "kernelspec": {
   "display_name": "Python 2",
   "language": "python",
   "name": "python2"
  },
  "language_info": {
   "codemirror_mode": {
    "name": "ipython",
    "version": 2
   },
   "file_extension": ".py",
   "mimetype": "text/x-python",
   "name": "python",
   "nbconvert_exporter": "python",
   "pygments_lexer": "ipython2",
   "version": "2.7.12"
  }
 },
 "nbformat": 4,
 "nbformat_minor": 1
}
