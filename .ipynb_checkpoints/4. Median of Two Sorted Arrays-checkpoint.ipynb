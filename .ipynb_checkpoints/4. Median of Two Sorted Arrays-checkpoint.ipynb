{
 "cells": [
  {
   "cell_type": "markdown",
   "metadata": {},
   "source": [
    "# 4. Median of Two Sorted Arrays\n",
    "---\n",
    "There are two sorted arrays nums1 and nums2 of size m and n respectively.\n",
    "\n",
    "Find the median of the two sorted arrays. The overall run time complexity should be O(log (m+n))."
   ]
  },
  {
   "cell_type": "code",
   "execution_count": 29,
   "metadata": {
    "collapsed": false
   },
   "outputs": [],
   "source": [
    "# 155 ms 20%\n",
    "def findMedianSortedArrays(nums1, nums2):\n",
    "    \"\"\"\n",
    "    :type nums1: List[int]\n",
    "    :type nums2: List[int]\n",
    "    :rtype: float\n",
    "    \"\"\"\n",
    "    if not (nums1 or nums2):\n",
    "        return\n",
    "  \n",
    "    if not nums2:\n",
    "        return nums1[(len(nums1)+1)/2-1] if len(nums1)%2 else (nums1[(len(nums1)+1)/2-1]+nums1[(len(nums1)+1)/2])/2.0\n",
    "    if not nums1:\n",
    "        return nums2[(len(nums2)+1)/2-1] if len(nums2)%2 else (nums2[(len(nums2)+1)/2-1]+nums2[(len(nums2)+1)/2])/2.0\n",
    "    l1 = len(nums1)\n",
    "    l2 = len(nums2)\n",
    "    l = l1+l2\n",
    "    to_find1 = (l+1)/2-1\n",
    "    to_find2 = to_find1+1\n",
    "    \n",
    "    pm = 0\n",
    "    pn = 0\n",
    "    new = []\n",
    "   \n",
    "    while len(new)<l:\n",
    "        \n",
    "        t1 = nums1[pm] if pm<l1 else nums1[-1]\n",
    "        t2 = nums2[pn] if pn<l2 else nums2[-1]\n",
    "        if t1<t2:\n",
    "            new.append(t1)\n",
    "            pm+=1\n",
    "            if pm==l1:\n",
    "                new.extend(nums2[pn:])\n",
    "                break\n",
    "                \n",
    "                \n",
    "        else:\n",
    "            new.append(t2)\n",
    "            pn+=1\n",
    "            if pn==l2:\n",
    "                new.extend(nums1[pm:])\n",
    "                break\n",
    "            \n",
    "                \n",
    "    print new\n",
    "    if l%2:return new[to_find1]\n",
    "    else:return (new[to_find1]+new[to_find2])/2.0\n",
    "                \n",
    "               "
   ]
  },
  {
   "cell_type": "code",
   "execution_count": 30,
   "metadata": {
    "collapsed": false
   },
   "outputs": [
    {
     "name": "stdout",
     "output_type": "stream",
     "text": [
      "[1, 2, 3, 4]\n",
      "2.5\n"
     ]
    }
   ],
   "source": [
    "# 92ms, 93.85%\n",
    "class Solution(object):\n",
    "    def findMedianSortedArrays(self,nums1, nums2):\n",
    "        \"\"\"\n",
    "        :type nums1: List[int]\n",
    "        :type nums2: List[int]\n",
    "        :rtype: float\n",
    "        \"\"\"\n",
    "        if not (nums1 or nums2):\n",
    "            return\n",
    "      \n",
    "        if not nums2:\n",
    "            return nums1[(len(nums1)+1)/2-1] if len(nums1)%2 else (nums1[(len(nums1)+1)/2-1]+nums1[(len(nums1)+1)/2])/2.0\n",
    "        if not nums1:\n",
    "            return nums2[(len(nums2)+1)/2-1] if len(nums2)%2 else (nums2[(len(nums2)+1)/2-1]+nums2[(len(nums2)+1)/2])/2.0\n",
    "        l1 = len(nums1)\n",
    "        l2 = len(nums2)\n",
    "        \n",
    "        l = l1+l2\n",
    "        to_find1 = (l+1)/2-1\n",
    "        to_find2 = to_find1+1\n",
    "        \n",
    "        pm = 0\n",
    "        pn = 0\n",
    "        new = []\n",
    "       \n",
    "        while len(new)<l:\n",
    "        \n",
    "            t1 = nums1[pm] if pm<l1 else nums1[-1]\n",
    "            t2 = nums2[pn] if pn<l2 else nums2[-1]\n",
    "            if t1<=t2:\n",
    "                new.append(t1)\n",
    "                pm+=1\n",
    "                if pm==l1:\n",
    "                    lnew = len(new)\n",
    "                    if lnew<to_find1+1:\n",
    "                        return nums2[to_find1-lnew+pn] if l%2 else (nums2[to_find2-lnew+pn]+nums2[to_find1-lnew+pn])/2.0\n",
    "                    elif lnew<to_find2+1:\n",
    "                        m1 = new[to_find1]\n",
    "                        return m1 if l%2 else (m1+nums2[pn])/2.0\n",
    "                    else:\n",
    "                        return new[to_find1] if l%2 else (new[to_find1]+new[to_find2])/2.0\n",
    "            \n",
    "            else:\n",
    "                new.append(t2)\n",
    "                pn+=1\n",
    "                if pn==l2:\n",
    "                    lnew = len(new)\n",
    "                    if lnew<to_find1+1:\n",
    "                        return nums1[to_find1-lnew+pm] if l%2 else (nums1[to_find2-lnew+pm]+nums1[to_find1-lnew+pm])/2.0\n",
    "                    elif lnew<to_find2+1:\n",
    "                        m1 = new[to_find1]\n",
    "                        return m1 if l%2 else (m1+nums1[pm])/2.0\n",
    "                    else:\n",
    "                        return new[to_find1] if l%2 else (new[to_find1]+new[to_find2])/2.0  "
   ]
  },
  {
   "cell_type": "code",
   "execution_count": null,
   "metadata": {
    "collapsed": true
   },
   "outputs": [],
   "source": []
  },
  {
   "cell_type": "code",
   "execution_count": null,
   "metadata": {
    "collapsed": true
   },
   "outputs": [],
   "source": []
  },
  {
   "cell_type": "code",
   "execution_count": null,
   "metadata": {
    "collapsed": true
   },
   "outputs": [],
   "source": []
  },
  {
   "cell_type": "code",
   "execution_count": null,
   "metadata": {
    "collapsed": true
   },
   "outputs": [],
   "source": []
  }
 ],
 "metadata": {
  "kernelspec": {
   "display_name": "Python 2",
   "language": "python",
   "name": "python2"
  },
  "language_info": {
   "codemirror_mode": {
    "name": "ipython",
    "version": 2
   },
   "file_extension": ".py",
   "mimetype": "text/x-python",
   "name": "python",
   "nbconvert_exporter": "python",
   "pygments_lexer": "ipython2",
   "version": "2.7.12"
  }
 },
 "nbformat": 4,
 "nbformat_minor": 1
}
